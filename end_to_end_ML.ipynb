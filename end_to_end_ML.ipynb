{
  "nbformat": 4,
  "nbformat_minor": 0,
  "metadata": {
    "colab": {
      "name": "end_to_end_ML.ipynb",
      "provenance": [],
      "collapsed_sections": [
        "19B2bfvtUqGT",
        "Hx0KNqqGVpIO"
      ],
      "authorship_tag": "ABX9TyOtIYaECD9iZ/CEl7BPsyNf",
      "include_colab_link": true
    },
    "kernelspec": {
      "name": "python3",
      "display_name": "Python 3"
    }
  },
  "cells": [
    {
      "cell_type": "markdown",
      "metadata": {
        "id": "view-in-github",
        "colab_type": "text"
      },
      "source": [
        "<a href=\"https://colab.research.google.com/github/shonesaji11/Sample-ML-Project/blob/master/end_to_end_ML.ipynb\" target=\"_parent\"><img src=\"https://colab.research.google.com/assets/colab-badge.svg\" alt=\"Open In Colab\"/></a>"
      ]
    },
    {
      "cell_type": "code",
      "metadata": {
        "id": "vPMheXwsmtQA",
        "colab_type": "code",
        "colab": {}
      },
      "source": [
        "# Python ≥3.5 is required\n",
        "import sys\n",
        "assert sys.version_info >= (3, 5)\n",
        "\n",
        "# Scikit-Learn ≥0.20 is required\n",
        "import sklearn\n",
        "assert sklearn.__version__ >= \"0.20\"\n",
        "\n",
        "# Common imports\n",
        "import numpy as np\n",
        "import os\n",
        "\n",
        "# To plot pretty figures\n",
        "%matplotlib inline\n",
        "import matplotlib as mpl\n",
        "import matplotlib.pyplot as plt\n",
        "mpl.rc('axes', labelsize=14)\n",
        "mpl.rc('xtick', labelsize=12)\n",
        "mpl.rc('ytick', labelsize=12)\n",
        "\n",
        "# Where to save the figures\n",
        "PROJECT_ROOT_DIR = \".\"\n",
        "CHAPTER_ID = \"end_to_end_project\"\n",
        "IMAGES_PATH = os.path.join(PROJECT_ROOT_DIR, \"images\", CHAPTER_ID)\n",
        "os.makedirs(IMAGES_PATH, exist_ok=True)\n",
        "\n",
        "def save_fig(fig_id, tight_layout=True, fig_extension=\"png\", resolution=300):\n",
        "    path = os.path.join(IMAGES_PATH, fig_id + \".\" + fig_extension)\n",
        "    print(\"Saving figure\", fig_id)\n",
        "    if tight_layout:\n",
        "        plt.tight_layout()\n",
        "    plt.savefig(path, format=fig_extension, dpi=resolution)\n",
        "\n",
        "# Ignore useless warnings (see SciPy issue #5998)\n",
        "import warnings\n",
        "warnings.filterwarnings(action=\"ignore\", message=\"^internal gelsd\")"
      ],
      "execution_count": null,
      "outputs": []
    },
    {
      "cell_type": "markdown",
      "metadata": {
        "id": "1x0PbMvKnDVZ",
        "colab_type": "text"
      },
      "source": [
        "Custom function to download the dataset"
      ]
    },
    {
      "cell_type": "code",
      "metadata": {
        "id": "wvkpSUrlm3sP",
        "colab_type": "code",
        "colab": {}
      },
      "source": [
        "import os\n",
        "import tarfile\n",
        "import urllib\n",
        "\n",
        "DOWNLOAD_ROOT = \"https://raw.githubusercontent.com/ageron/handson-ml2/master/\"\n",
        "HOUSING_PATH = os.path.join(\"datasets\", \"housing\")\n",
        "HOUSING_URL = DOWNLOAD_ROOT + \"datasets/housing/housing.tgz\"\n",
        "\n",
        "def fetch_housing_data(housing_url=HOUSING_URL, housing_path=HOUSING_PATH):\n",
        "    if not os.path.isdir(housing_path):\n",
        "        os.makedirs(housing_path)\n",
        "    tgz_path = os.path.join(housing_path, \"housing.tgz\")\n",
        "    urllib.request.urlretrieve(housing_url, tgz_path)\n",
        "    housing_tgz = tarfile.open(tgz_path)\n",
        "    housing_tgz.extractall(path=housing_path)\n",
        "    housing_tgz.close()"
      ],
      "execution_count": null,
      "outputs": []
    },
    {
      "cell_type": "code",
      "metadata": {
        "id": "-Naf3XpKnBvT",
        "colab_type": "code",
        "colab": {}
      },
      "source": [
        "fetch_housing_data()"
      ],
      "execution_count": null,
      "outputs": []
    },
    {
      "cell_type": "code",
      "metadata": {
        "id": "Org6kf1gnK8H",
        "colab_type": "code",
        "colab": {}
      },
      "source": [
        "import pandas as pd\n",
        "\n",
        "def load_housing_data(housing_path=HOUSING_PATH):\n",
        "    csv_path = os.path.join(housing_path, \"housing.csv\")\n",
        "    return pd.read_csv(csv_path)"
      ],
      "execution_count": null,
      "outputs": []
    },
    {
      "cell_type": "code",
      "metadata": {
        "id": "Ow1vaxn_nRV1",
        "colab_type": "code",
        "colab": {
          "base_uri": "https://localhost:8080/",
          "height": 535
        },
        "outputId": "3df1a33e-e0ca-4241-b8bd-aee4c3d2f96d"
      },
      "source": [
        "housing = load_housing_data()\n",
        "print(housing.head())\n",
        "print(\"\\nINFO\")\n",
        "print(housing.info())"
      ],
      "execution_count": null,
      "outputs": [
        {
          "output_type": "stream",
          "text": [
            "   longitude  latitude  ...  median_house_value  ocean_proximity\n",
            "0    -122.23     37.88  ...            452600.0         NEAR BAY\n",
            "1    -122.22     37.86  ...            358500.0         NEAR BAY\n",
            "2    -122.24     37.85  ...            352100.0         NEAR BAY\n",
            "3    -122.25     37.85  ...            341300.0         NEAR BAY\n",
            "4    -122.25     37.85  ...            342200.0         NEAR BAY\n",
            "\n",
            "[5 rows x 10 columns]\n",
            "\n",
            "INFO\n",
            "<class 'pandas.core.frame.DataFrame'>\n",
            "RangeIndex: 20640 entries, 0 to 20639\n",
            "Data columns (total 10 columns):\n",
            " #   Column              Non-Null Count  Dtype  \n",
            "---  ------              --------------  -----  \n",
            " 0   longitude           20640 non-null  float64\n",
            " 1   latitude            20640 non-null  float64\n",
            " 2   housing_median_age  20640 non-null  float64\n",
            " 3   total_rooms         20640 non-null  float64\n",
            " 4   total_bedrooms      20433 non-null  float64\n",
            " 5   population          20640 non-null  float64\n",
            " 6   households          20640 non-null  float64\n",
            " 7   median_income       20640 non-null  float64\n",
            " 8   median_house_value  20640 non-null  float64\n",
            " 9   ocean_proximity     20640 non-null  object \n",
            "dtypes: float64(9), object(1)\n",
            "memory usage: 1.6+ MB\n",
            "None\n"
          ],
          "name": "stdout"
        }
      ]
    },
    {
      "cell_type": "code",
      "metadata": {
        "id": "ImXTUsB-nX6Q",
        "colab_type": "code",
        "colab": {
          "base_uri": "https://localhost:8080/",
          "height": 206
        },
        "outputId": "bd18e03c-0a3c-435d-cf81-2123b1ef5088"
      },
      "source": [
        "housing.head()"
      ],
      "execution_count": null,
      "outputs": [
        {
          "output_type": "execute_result",
          "data": {
            "text/html": [
              "<div>\n",
              "<style scoped>\n",
              "    .dataframe tbody tr th:only-of-type {\n",
              "        vertical-align: middle;\n",
              "    }\n",
              "\n",
              "    .dataframe tbody tr th {\n",
              "        vertical-align: top;\n",
              "    }\n",
              "\n",
              "    .dataframe thead th {\n",
              "        text-align: right;\n",
              "    }\n",
              "</style>\n",
              "<table border=\"1\" class=\"dataframe\">\n",
              "  <thead>\n",
              "    <tr style=\"text-align: right;\">\n",
              "      <th></th>\n",
              "      <th>longitude</th>\n",
              "      <th>latitude</th>\n",
              "      <th>housing_median_age</th>\n",
              "      <th>total_rooms</th>\n",
              "      <th>total_bedrooms</th>\n",
              "      <th>population</th>\n",
              "      <th>households</th>\n",
              "      <th>median_income</th>\n",
              "      <th>median_house_value</th>\n",
              "      <th>ocean_proximity</th>\n",
              "    </tr>\n",
              "  </thead>\n",
              "  <tbody>\n",
              "    <tr>\n",
              "      <th>0</th>\n",
              "      <td>-122.23</td>\n",
              "      <td>37.88</td>\n",
              "      <td>41.0</td>\n",
              "      <td>880.0</td>\n",
              "      <td>129.0</td>\n",
              "      <td>322.0</td>\n",
              "      <td>126.0</td>\n",
              "      <td>8.3252</td>\n",
              "      <td>452600.0</td>\n",
              "      <td>NEAR BAY</td>\n",
              "    </tr>\n",
              "    <tr>\n",
              "      <th>1</th>\n",
              "      <td>-122.22</td>\n",
              "      <td>37.86</td>\n",
              "      <td>21.0</td>\n",
              "      <td>7099.0</td>\n",
              "      <td>1106.0</td>\n",
              "      <td>2401.0</td>\n",
              "      <td>1138.0</td>\n",
              "      <td>8.3014</td>\n",
              "      <td>358500.0</td>\n",
              "      <td>NEAR BAY</td>\n",
              "    </tr>\n",
              "    <tr>\n",
              "      <th>2</th>\n",
              "      <td>-122.24</td>\n",
              "      <td>37.85</td>\n",
              "      <td>52.0</td>\n",
              "      <td>1467.0</td>\n",
              "      <td>190.0</td>\n",
              "      <td>496.0</td>\n",
              "      <td>177.0</td>\n",
              "      <td>7.2574</td>\n",
              "      <td>352100.0</td>\n",
              "      <td>NEAR BAY</td>\n",
              "    </tr>\n",
              "    <tr>\n",
              "      <th>3</th>\n",
              "      <td>-122.25</td>\n",
              "      <td>37.85</td>\n",
              "      <td>52.0</td>\n",
              "      <td>1274.0</td>\n",
              "      <td>235.0</td>\n",
              "      <td>558.0</td>\n",
              "      <td>219.0</td>\n",
              "      <td>5.6431</td>\n",
              "      <td>341300.0</td>\n",
              "      <td>NEAR BAY</td>\n",
              "    </tr>\n",
              "    <tr>\n",
              "      <th>4</th>\n",
              "      <td>-122.25</td>\n",
              "      <td>37.85</td>\n",
              "      <td>52.0</td>\n",
              "      <td>1627.0</td>\n",
              "      <td>280.0</td>\n",
              "      <td>565.0</td>\n",
              "      <td>259.0</td>\n",
              "      <td>3.8462</td>\n",
              "      <td>342200.0</td>\n",
              "      <td>NEAR BAY</td>\n",
              "    </tr>\n",
              "  </tbody>\n",
              "</table>\n",
              "</div>"
            ],
            "text/plain": [
              "   longitude  latitude  ...  median_house_value  ocean_proximity\n",
              "0    -122.23     37.88  ...            452600.0         NEAR BAY\n",
              "1    -122.22     37.86  ...            358500.0         NEAR BAY\n",
              "2    -122.24     37.85  ...            352100.0         NEAR BAY\n",
              "3    -122.25     37.85  ...            341300.0         NEAR BAY\n",
              "4    -122.25     37.85  ...            342200.0         NEAR BAY\n",
              "\n",
              "[5 rows x 10 columns]"
            ]
          },
          "metadata": {
            "tags": []
          },
          "execution_count": 48
        }
      ]
    },
    {
      "cell_type": "code",
      "metadata": {
        "id": "GJtO1GpSnjf-",
        "colab_type": "code",
        "colab": {
          "base_uri": "https://localhost:8080/",
          "height": 128
        },
        "outputId": "ac0fad4f-a9e8-4a7c-e83e-d4bbea89f70a"
      },
      "source": [
        "housing[\"ocean_proximity\"].value_counts()"
      ],
      "execution_count": null,
      "outputs": [
        {
          "output_type": "execute_result",
          "data": {
            "text/plain": [
              "<1H OCEAN     9136\n",
              "INLAND        6551\n",
              "NEAR OCEAN    2658\n",
              "NEAR BAY      2290\n",
              "ISLAND           5\n",
              "Name: ocean_proximity, dtype: int64"
            ]
          },
          "metadata": {
            "tags": []
          },
          "execution_count": 49
        }
      ]
    },
    {
      "cell_type": "markdown",
      "metadata": {
        "id": "R9EJS5ZUn3qX",
        "colab_type": "text"
      },
      "source": [
        "STATISTICAL PROPERTIES "
      ]
    },
    {
      "cell_type": "code",
      "metadata": {
        "id": "zW88kpSenu3S",
        "colab_type": "code",
        "colab": {
          "base_uri": "https://localhost:8080/",
          "height": 300
        },
        "outputId": "07432c7d-f086-4414-a07f-7f4afe096e4e"
      },
      "source": [
        "housing.describe()"
      ],
      "execution_count": null,
      "outputs": [
        {
          "output_type": "execute_result",
          "data": {
            "text/html": [
              "<div>\n",
              "<style scoped>\n",
              "    .dataframe tbody tr th:only-of-type {\n",
              "        vertical-align: middle;\n",
              "    }\n",
              "\n",
              "    .dataframe tbody tr th {\n",
              "        vertical-align: top;\n",
              "    }\n",
              "\n",
              "    .dataframe thead th {\n",
              "        text-align: right;\n",
              "    }\n",
              "</style>\n",
              "<table border=\"1\" class=\"dataframe\">\n",
              "  <thead>\n",
              "    <tr style=\"text-align: right;\">\n",
              "      <th></th>\n",
              "      <th>longitude</th>\n",
              "      <th>latitude</th>\n",
              "      <th>housing_median_age</th>\n",
              "      <th>total_rooms</th>\n",
              "      <th>total_bedrooms</th>\n",
              "      <th>population</th>\n",
              "      <th>households</th>\n",
              "      <th>median_income</th>\n",
              "      <th>median_house_value</th>\n",
              "    </tr>\n",
              "  </thead>\n",
              "  <tbody>\n",
              "    <tr>\n",
              "      <th>count</th>\n",
              "      <td>20640.000000</td>\n",
              "      <td>20640.000000</td>\n",
              "      <td>20640.000000</td>\n",
              "      <td>20640.000000</td>\n",
              "      <td>20433.000000</td>\n",
              "      <td>20640.000000</td>\n",
              "      <td>20640.000000</td>\n",
              "      <td>20640.000000</td>\n",
              "      <td>20640.000000</td>\n",
              "    </tr>\n",
              "    <tr>\n",
              "      <th>mean</th>\n",
              "      <td>-119.569704</td>\n",
              "      <td>35.631861</td>\n",
              "      <td>28.639486</td>\n",
              "      <td>2635.763081</td>\n",
              "      <td>537.870553</td>\n",
              "      <td>1425.476744</td>\n",
              "      <td>499.539680</td>\n",
              "      <td>3.870671</td>\n",
              "      <td>206855.816909</td>\n",
              "    </tr>\n",
              "    <tr>\n",
              "      <th>std</th>\n",
              "      <td>2.003532</td>\n",
              "      <td>2.135952</td>\n",
              "      <td>12.585558</td>\n",
              "      <td>2181.615252</td>\n",
              "      <td>421.385070</td>\n",
              "      <td>1132.462122</td>\n",
              "      <td>382.329753</td>\n",
              "      <td>1.899822</td>\n",
              "      <td>115395.615874</td>\n",
              "    </tr>\n",
              "    <tr>\n",
              "      <th>min</th>\n",
              "      <td>-124.350000</td>\n",
              "      <td>32.540000</td>\n",
              "      <td>1.000000</td>\n",
              "      <td>2.000000</td>\n",
              "      <td>1.000000</td>\n",
              "      <td>3.000000</td>\n",
              "      <td>1.000000</td>\n",
              "      <td>0.499900</td>\n",
              "      <td>14999.000000</td>\n",
              "    </tr>\n",
              "    <tr>\n",
              "      <th>25%</th>\n",
              "      <td>-121.800000</td>\n",
              "      <td>33.930000</td>\n",
              "      <td>18.000000</td>\n",
              "      <td>1447.750000</td>\n",
              "      <td>296.000000</td>\n",
              "      <td>787.000000</td>\n",
              "      <td>280.000000</td>\n",
              "      <td>2.563400</td>\n",
              "      <td>119600.000000</td>\n",
              "    </tr>\n",
              "    <tr>\n",
              "      <th>50%</th>\n",
              "      <td>-118.490000</td>\n",
              "      <td>34.260000</td>\n",
              "      <td>29.000000</td>\n",
              "      <td>2127.000000</td>\n",
              "      <td>435.000000</td>\n",
              "      <td>1166.000000</td>\n",
              "      <td>409.000000</td>\n",
              "      <td>3.534800</td>\n",
              "      <td>179700.000000</td>\n",
              "    </tr>\n",
              "    <tr>\n",
              "      <th>75%</th>\n",
              "      <td>-118.010000</td>\n",
              "      <td>37.710000</td>\n",
              "      <td>37.000000</td>\n",
              "      <td>3148.000000</td>\n",
              "      <td>647.000000</td>\n",
              "      <td>1725.000000</td>\n",
              "      <td>605.000000</td>\n",
              "      <td>4.743250</td>\n",
              "      <td>264725.000000</td>\n",
              "    </tr>\n",
              "    <tr>\n",
              "      <th>max</th>\n",
              "      <td>-114.310000</td>\n",
              "      <td>41.950000</td>\n",
              "      <td>52.000000</td>\n",
              "      <td>39320.000000</td>\n",
              "      <td>6445.000000</td>\n",
              "      <td>35682.000000</td>\n",
              "      <td>6082.000000</td>\n",
              "      <td>15.000100</td>\n",
              "      <td>500001.000000</td>\n",
              "    </tr>\n",
              "  </tbody>\n",
              "</table>\n",
              "</div>"
            ],
            "text/plain": [
              "          longitude      latitude  ...  median_income  median_house_value\n",
              "count  20640.000000  20640.000000  ...   20640.000000        20640.000000\n",
              "mean    -119.569704     35.631861  ...       3.870671       206855.816909\n",
              "std        2.003532      2.135952  ...       1.899822       115395.615874\n",
              "min     -124.350000     32.540000  ...       0.499900        14999.000000\n",
              "25%     -121.800000     33.930000  ...       2.563400       119600.000000\n",
              "50%     -118.490000     34.260000  ...       3.534800       179700.000000\n",
              "75%     -118.010000     37.710000  ...       4.743250       264725.000000\n",
              "max     -114.310000     41.950000  ...      15.000100       500001.000000\n",
              "\n",
              "[8 rows x 9 columns]"
            ]
          },
          "metadata": {
            "tags": []
          },
          "execution_count": 50
        }
      ]
    },
    {
      "cell_type": "markdown",
      "metadata": {
        "id": "t5HmKUCCpg4Q",
        "colab_type": "text"
      },
      "source": [
        "## HISTOGRAM\n",
        "\n",
        "*  A histogram shows the number of instances (on the vertical axis) that have a given value range (on the horizontal axis). "
      ]
    },
    {
      "cell_type": "code",
      "metadata": {
        "id": "TQkdW2GFppk8",
        "colab_type": "code",
        "colab": {
          "base_uri": "https://localhost:8080/",
          "height": 716
        },
        "outputId": "92fb0f80-83ac-4ef2-c135-5dbb39296129"
      },
      "source": [
        "%matplotlib inline\n",
        "import matplotlib.pyplot as plt\n",
        "housing.hist(bins = 100 , figsize = (30,15))\n",
        "plt.show()"
      ],
      "execution_count": null,
      "outputs": [
        {
          "output_type": "display_data",
          "data": {
            "image/png": "[encoded data removed]",
            "text/plain": [
              "<Figure size 2160x1080 with 9 Axes>"
            ]
          },
          "metadata": {
            "tags": [],
            "needs_background": "light"
          }
        }
      ]
    },
    {
      "cell_type": "markdown",
      "metadata": {
        "id": "ELLrRVY5qctE",
        "colab_type": "text"
      },
      "source": [
        "## Splitting into train/test set"
      ]
    },
    {
      "cell_type": "code",
      "metadata": {
        "id": "dXr94lXGqacd",
        "colab_type": "code",
        "colab": {}
      },
      "source": [
        "from sklearn.model_selection import train_test_split\n",
        "\n",
        "train_set, test_set = train_test_split(housing, test_size=0.2, random_state=42)"
      ],
      "execution_count": null,
      "outputs": []
    },
    {
      "cell_type": "code",
      "metadata": {
        "id": "e6Bt7Yx-p_oO",
        "colab_type": "code",
        "colab": {
          "base_uri": "https://localhost:8080/",
          "height": 286
        },
        "outputId": "ca0ca8f9-4072-4ad3-9cf1-69c4a8ff19c4"
      },
      "source": [
        "housing[\"median_income\"].hist()"
      ],
      "execution_count": null,
      "outputs": [
        {
          "output_type": "execute_result",
          "data": {
            "text/plain": [
              "<matplotlib.axes._subplots.AxesSubplot at 0x7f0446f51208>"
            ]
          },
          "metadata": {
            "tags": []
          },
          "execution_count": 53
        },
        {
          "output_type": "display_data",
          "data": {
            "image/png": "[encoded data removed]",
            "text/plain": [
              "<Figure size 432x288 with 1 Axes>"
            ]
          },
          "metadata": {
            "tags": [],
            "needs_background": "light"
          }
        }
      ]
    },
    {
      "cell_type": "markdown",
      "metadata": {
        "id": "Z-RbF8t7qw8u",
        "colab_type": "text"
      },
      "source": [
        "* When we split data into train/test its important that we take care of the proportion of sub sections in the dataset. From above histogram we can see most are in the range 1.5-6. So we need to ensure whilw splitting that datapoints in the other category are represented according to its proportion\n",
        "* StratifiedShuffleSplit\n",
        "* Split the median_incomes attribute into 4 different parts as show below"
      ]
    },
    {
      "cell_type": "code",
      "metadata": {
        "id": "kqcAeADEqsaC",
        "colab_type": "code",
        "colab": {}
      },
      "source": [
        "#Creating a new temporary attribute called income_category (based on median_incomes)\n",
        "housing[\"income_cat\"] = pd.cut(housing[\"median_income\"] , bins = [0.,1.5,3.,4.5,6.,np.inf],labels = [1,2,3,4,5])\n"
      ],
      "execution_count": null,
      "outputs": []
    },
    {
      "cell_type": "code",
      "metadata": {
        "id": "WDWmmsQLtyCd",
        "colab_type": "code",
        "colab": {
          "base_uri": "https://localhost:8080/",
          "height": 128
        },
        "outputId": "becf4781-61b4-46a9-ebd2-002d58d29603"
      },
      "source": [
        "housing[\"income_cat\"].value_counts().sort_values()"
      ],
      "execution_count": null,
      "outputs": [
        {
          "output_type": "execute_result",
          "data": {
            "text/plain": [
              "1     822\n",
              "5    2362\n",
              "4    3639\n",
              "2    6581\n",
              "3    7236\n",
              "Name: income_cat, dtype: int64"
            ]
          },
          "metadata": {
            "tags": []
          },
          "execution_count": 55
        }
      ]
    },
    {
      "cell_type": "code",
      "metadata": {
        "id": "dRuTZXH9uTAJ",
        "colab_type": "code",
        "colab": {
          "base_uri": "https://localhost:8080/",
          "height": 286
        },
        "outputId": "37681fb1-7d0f-4b1f-b872-139f29d16de9"
      },
      "source": [
        "housing[\"income_cat\"].hist()"
      ],
      "execution_count": null,
      "outputs": [
        {
          "output_type": "execute_result",
          "data": {
            "text/plain": [
              "<matplotlib.axes._subplots.AxesSubplot at 0x7f044955ce80>"
            ]
          },
          "metadata": {
            "tags": []
          },
          "execution_count": 56
        },
        {
          "output_type": "display_data",
          "data": {
            "image/png": "[encoded data removed]",
            "text/plain": [
              "<Figure size 432x288 with 1 Axes>"
            ]
          },
          "metadata": {
            "tags": [],
            "needs_background": "light"
          }
        }
      ]
    },
    {
      "cell_type": "code",
      "metadata": {
        "id": "9cA08NE2uvql",
        "colab_type": "code",
        "colab": {}
      },
      "source": [
        "from sklearn.model_selection import StratifiedShuffleSplit\n",
        "\n",
        "split = StratifiedShuffleSplit(n_splits=1, test_size=0.2, random_state=42)\n",
        "for train_index, test_index in split.split(housing, housing[\"income_cat\"]):\n",
        "    strat_train_set = housing.loc[train_index]\n",
        "    strat_test_set = housing.loc[test_index]"
      ],
      "execution_count": null,
      "outputs": []
    },
    {
      "cell_type": "code",
      "metadata": {
        "id": "qZSVaJnEu6qE",
        "colab_type": "code",
        "colab": {}
      },
      "source": [
        "def income_cat_proportions(data):\n",
        "    return data[\"income_cat\"].value_counts() / len(data)\n",
        "\n",
        "train_set, test_set = train_test_split(housing, test_size=0.2, random_state=42)\n",
        "\n",
        "compare_props = pd.DataFrame({\n",
        "    \"Overall\": income_cat_proportions(housing),\n",
        "    \"Stratified\": income_cat_proportions(strat_test_set),\n",
        "    \"Random\": income_cat_proportions(test_set),\n",
        "}).sort_index()\n",
        "compare_props[\"Rand. %error\"] = 100 * compare_props[\"Random\"] / compare_props[\"Overall\"] - 100\n",
        "compare_props[\"Strat. %error\"] = 100 * compare_props[\"Stratified\"] / compare_props[\"Overall\"] - 100"
      ],
      "execution_count": null,
      "outputs": []
    },
    {
      "cell_type": "markdown",
      "metadata": {
        "id": "l6dVk7C_vHzl",
        "colab_type": "text"
      },
      "source": [
        "# compare_props\n",
        "\n",
        "* We can see the test/train split using stratified gives a better representation of each incomecategory in the median_incomes than randomly splitting it.\n",
        "* We remove income_cat attribute after this, because its only use was to get a better train/test split."
      ]
    },
    {
      "cell_type": "code",
      "metadata": {
        "id": "tUI4M8V_u-NJ",
        "colab_type": "code",
        "colab": {
          "base_uri": "https://localhost:8080/",
          "height": 206
        },
        "outputId": "948bc39b-08f6-4667-cfe9-43a10ef83546"
      },
      "source": [
        "compare_props"
      ],
      "execution_count": null,
      "outputs": [
        {
          "output_type": "execute_result",
          "data": {
            "text/html": [
              "<div>\n",
              "<style scoped>\n",
              "    .dataframe tbody tr th:only-of-type {\n",
              "        vertical-align: middle;\n",
              "    }\n",
              "\n",
              "    .dataframe tbody tr th {\n",
              "        vertical-align: top;\n",
              "    }\n",
              "\n",
              "    .dataframe thead th {\n",
              "        text-align: right;\n",
              "    }\n",
              "</style>\n",
              "<table border=\"1\" class=\"dataframe\">\n",
              "  <thead>\n",
              "    <tr style=\"text-align: right;\">\n",
              "      <th></th>\n",
              "      <th>Overall</th>\n",
              "      <th>Stratified</th>\n",
              "      <th>Random</th>\n",
              "      <th>Rand. %error</th>\n",
              "      <th>Strat. %error</th>\n",
              "    </tr>\n",
              "  </thead>\n",
              "  <tbody>\n",
              "    <tr>\n",
              "      <th>1</th>\n",
              "      <td>0.039826</td>\n",
              "      <td>0.039729</td>\n",
              "      <td>0.040213</td>\n",
              "      <td>0.973236</td>\n",
              "      <td>-0.243309</td>\n",
              "    </tr>\n",
              "    <tr>\n",
              "      <th>2</th>\n",
              "      <td>0.318847</td>\n",
              "      <td>0.318798</td>\n",
              "      <td>0.324370</td>\n",
              "      <td>1.732260</td>\n",
              "      <td>-0.015195</td>\n",
              "    </tr>\n",
              "    <tr>\n",
              "      <th>3</th>\n",
              "      <td>0.350581</td>\n",
              "      <td>0.350533</td>\n",
              "      <td>0.358527</td>\n",
              "      <td>2.266446</td>\n",
              "      <td>-0.013820</td>\n",
              "    </tr>\n",
              "    <tr>\n",
              "      <th>4</th>\n",
              "      <td>0.176308</td>\n",
              "      <td>0.176357</td>\n",
              "      <td>0.167393</td>\n",
              "      <td>-5.056334</td>\n",
              "      <td>0.027480</td>\n",
              "    </tr>\n",
              "    <tr>\n",
              "      <th>5</th>\n",
              "      <td>0.114438</td>\n",
              "      <td>0.114583</td>\n",
              "      <td>0.109496</td>\n",
              "      <td>-4.318374</td>\n",
              "      <td>0.127011</td>\n",
              "    </tr>\n",
              "  </tbody>\n",
              "</table>\n",
              "</div>"
            ],
            "text/plain": [
              "    Overall  Stratified    Random  Rand. %error  Strat. %error\n",
              "1  0.039826    0.039729  0.040213      0.973236      -0.243309\n",
              "2  0.318847    0.318798  0.324370      1.732260      -0.015195\n",
              "3  0.350581    0.350533  0.358527      2.266446      -0.013820\n",
              "4  0.176308    0.176357  0.167393     -5.056334       0.027480\n",
              "5  0.114438    0.114583  0.109496     -4.318374       0.127011"
            ]
          },
          "metadata": {
            "tags": []
          },
          "execution_count": 30
        }
      ]
    },
    {
      "cell_type": "code",
      "metadata": {
        "id": "vcx4QmRkvy6W",
        "colab_type": "code",
        "colab": {
          "base_uri": "https://localhost:8080/",
          "height": 350
        },
        "outputId": "9672d5f2-4add-4617-a382-6a0d9e4c6569"
      },
      "source": [
        "strat_test_set.info()"
      ],
      "execution_count": null,
      "outputs": [
        {
          "output_type": "stream",
          "text": [
            "<class 'pandas.core.frame.DataFrame'>\n",
            "Int64Index: 4128 entries, 5241 to 2398\n",
            "Data columns (total 11 columns):\n",
            " #   Column              Non-Null Count  Dtype   \n",
            "---  ------              --------------  -----   \n",
            " 0   longitude           4128 non-null   float64 \n",
            " 1   latitude            4128 non-null   float64 \n",
            " 2   housing_median_age  4128 non-null   float64 \n",
            " 3   total_rooms         4128 non-null   float64 \n",
            " 4   total_bedrooms      4079 non-null   float64 \n",
            " 5   population          4128 non-null   float64 \n",
            " 6   households          4128 non-null   float64 \n",
            " 7   median_income       4128 non-null   float64 \n",
            " 8   median_house_value  4128 non-null   float64 \n",
            " 9   ocean_proximity     4128 non-null   object  \n",
            " 10  income_cat          4128 non-null   category\n",
            "dtypes: category(1), float64(9), object(1)\n",
            "memory usage: 359.0+ KB\n"
          ],
          "name": "stdout"
        }
      ]
    },
    {
      "cell_type": "code",
      "metadata": {
        "id": "pIRZ7qjzvC1T",
        "colab_type": "code",
        "colab": {}
      },
      "source": [
        "#Removing income_prop attribute\n",
        "for set_ in (strat_train_set, strat_test_set):\n",
        "    set_.drop(\"income_cat\", axis=1, inplace=True)"
      ],
      "execution_count": null,
      "outputs": []
    },
    {
      "cell_type": "code",
      "metadata": {
        "id": "91L8D4QdvroP",
        "colab_type": "code",
        "colab": {
          "base_uri": "https://localhost:8080/",
          "height": 331
        },
        "outputId": "cad956be-ec9c-4bb7-be5c-3b4f8d61add1"
      },
      "source": [
        "strat_test_set.info()"
      ],
      "execution_count": null,
      "outputs": [
        {
          "output_type": "stream",
          "text": [
            "<class 'pandas.core.frame.DataFrame'>\n",
            "Int64Index: 4128 entries, 5241 to 2398\n",
            "Data columns (total 10 columns):\n",
            " #   Column              Non-Null Count  Dtype  \n",
            "---  ------              --------------  -----  \n",
            " 0   longitude           4128 non-null   float64\n",
            " 1   latitude            4128 non-null   float64\n",
            " 2   housing_median_age  4128 non-null   float64\n",
            " 3   total_rooms         4128 non-null   float64\n",
            " 4   total_bedrooms      4079 non-null   float64\n",
            " 5   population          4128 non-null   float64\n",
            " 6   households          4128 non-null   float64\n",
            " 7   median_income       4128 non-null   float64\n",
            " 8   median_house_value  4128 non-null   float64\n",
            " 9   ocean_proximity     4128 non-null   object \n",
            "dtypes: float64(9), object(1)\n",
            "memory usage: 354.8+ KB\n"
          ],
          "name": "stdout"
        }
      ]
    },
    {
      "cell_type": "markdown",
      "metadata": {
        "id": "g533KB1wRvi4",
        "colab_type": "text"
      },
      "source": [
        "# Prepare the data for Machine Learning algorithms\n"
      ]
    },
    {
      "cell_type": "code",
      "metadata": {
        "id": "y_LVrxs5Ru6u",
        "colab_type": "code",
        "colab": {}
      },
      "source": [
        "housing = strat_train_set.drop(\"median_house_value\", axis=1) # drop labels for training set\n",
        "housing_labels = strat_train_set[\"median_house_value\"].copy()"
      ],
      "execution_count": null,
      "outputs": []
    },
    {
      "cell_type": "code",
      "metadata": {
        "id": "CG24vIf5vvfF",
        "colab_type": "code",
        "colab": {
          "base_uri": "https://localhost:8080/",
          "height": 313
        },
        "outputId": "18c19305-08ce-4e6f-fc6e-815670f713e5"
      },
      "source": [
        "housing.info()"
      ],
      "execution_count": null,
      "outputs": [
        {
          "output_type": "stream",
          "text": [
            "<class 'pandas.core.frame.DataFrame'>\n",
            "Int64Index: 16512 entries, 17606 to 15775\n",
            "Data columns (total 9 columns):\n",
            " #   Column              Non-Null Count  Dtype  \n",
            "---  ------              --------------  -----  \n",
            " 0   longitude           16512 non-null  float64\n",
            " 1   latitude            16512 non-null  float64\n",
            " 2   housing_median_age  16512 non-null  float64\n",
            " 3   total_rooms         16512 non-null  float64\n",
            " 4   total_bedrooms      16354 non-null  float64\n",
            " 5   population          16512 non-null  float64\n",
            " 6   households          16512 non-null  float64\n",
            " 7   median_income       16512 non-null  float64\n",
            " 8   ocean_proximity     16512 non-null  object \n",
            "dtypes: float64(8), object(1)\n",
            "memory usage: 1.3+ MB\n"
          ],
          "name": "stdout"
        }
      ]
    },
    {
      "cell_type": "markdown",
      "metadata": {
        "id": "kGY5hS6kTNyD",
        "colab_type": "text"
      },
      "source": [
        "In total_bedrooms there are some null values. We could do the following:\n",
        "1. Delete the entire total_bedrooms attribute\n",
        "2. Delete the null rows\n",
        "3. Fill it with median value"
      ]
    },
    {
      "cell_type": "code",
      "metadata": {
        "id": "csZN7EY5TIIH",
        "colab_type": "code",
        "colab": {
          "base_uri": "https://localhost:8080/",
          "height": 206
        },
        "outputId": "4c61e97e-f6f9-42cd-8f81-b88e2d5dfe77"
      },
      "source": [
        "sample_incomplete_rows = housing[housing.isnull().any(axis=1)].head()\n",
        "sample_incomplete_rows"
      ],
      "execution_count": null,
      "outputs": [
        {
          "output_type": "execute_result",
          "data": {
            "text/html": [
              "<div>\n",
              "<style scoped>\n",
              "    .dataframe tbody tr th:only-of-type {\n",
              "        vertical-align: middle;\n",
              "    }\n",
              "\n",
              "    .dataframe tbody tr th {\n",
              "        vertical-align: top;\n",
              "    }\n",
              "\n",
              "    .dataframe thead th {\n",
              "        text-align: right;\n",
              "    }\n",
              "</style>\n",
              "<table border=\"1\" class=\"dataframe\">\n",
              "  <thead>\n",
              "    <tr style=\"text-align: right;\">\n",
              "      <th></th>\n",
              "      <th>longitude</th>\n",
              "      <th>latitude</th>\n",
              "      <th>housing_median_age</th>\n",
              "      <th>total_rooms</th>\n",
              "      <th>total_bedrooms</th>\n",
              "      <th>population</th>\n",
              "      <th>households</th>\n",
              "      <th>median_income</th>\n",
              "      <th>ocean_proximity</th>\n",
              "    </tr>\n",
              "  </thead>\n",
              "  <tbody>\n",
              "    <tr>\n",
              "      <th>4629</th>\n",
              "      <td>-118.30</td>\n",
              "      <td>34.07</td>\n",
              "      <td>18.0</td>\n",
              "      <td>3759.0</td>\n",
              "      <td>NaN</td>\n",
              "      <td>3296.0</td>\n",
              "      <td>1462.0</td>\n",
              "      <td>2.2708</td>\n",
              "      <td>&lt;1H OCEAN</td>\n",
              "    </tr>\n",
              "    <tr>\n",
              "      <th>6068</th>\n",
              "      <td>-117.86</td>\n",
              "      <td>34.01</td>\n",
              "      <td>16.0</td>\n",
              "      <td>4632.0</td>\n",
              "      <td>NaN</td>\n",
              "      <td>3038.0</td>\n",
              "      <td>727.0</td>\n",
              "      <td>5.1762</td>\n",
              "      <td>&lt;1H OCEAN</td>\n",
              "    </tr>\n",
              "    <tr>\n",
              "      <th>17923</th>\n",
              "      <td>-121.97</td>\n",
              "      <td>37.35</td>\n",
              "      <td>30.0</td>\n",
              "      <td>1955.0</td>\n",
              "      <td>NaN</td>\n",
              "      <td>999.0</td>\n",
              "      <td>386.0</td>\n",
              "      <td>4.6328</td>\n",
              "      <td>&lt;1H OCEAN</td>\n",
              "    </tr>\n",
              "    <tr>\n",
              "      <th>13656</th>\n",
              "      <td>-117.30</td>\n",
              "      <td>34.05</td>\n",
              "      <td>6.0</td>\n",
              "      <td>2155.0</td>\n",
              "      <td>NaN</td>\n",
              "      <td>1039.0</td>\n",
              "      <td>391.0</td>\n",
              "      <td>1.6675</td>\n",
              "      <td>INLAND</td>\n",
              "    </tr>\n",
              "    <tr>\n",
              "      <th>19252</th>\n",
              "      <td>-122.79</td>\n",
              "      <td>38.48</td>\n",
              "      <td>7.0</td>\n",
              "      <td>6837.0</td>\n",
              "      <td>NaN</td>\n",
              "      <td>3468.0</td>\n",
              "      <td>1405.0</td>\n",
              "      <td>3.1662</td>\n",
              "      <td>&lt;1H OCEAN</td>\n",
              "    </tr>\n",
              "  </tbody>\n",
              "</table>\n",
              "</div>"
            ],
            "text/plain": [
              "       longitude  latitude  ...  median_income  ocean_proximity\n",
              "4629     -118.30     34.07  ...         2.2708        <1H OCEAN\n",
              "6068     -117.86     34.01  ...         5.1762        <1H OCEAN\n",
              "17923    -121.97     37.35  ...         4.6328        <1H OCEAN\n",
              "13656    -117.30     34.05  ...         1.6675           INLAND\n",
              "19252    -122.79     38.48  ...         3.1662        <1H OCEAN\n",
              "\n",
              "[5 rows x 9 columns]"
            ]
          },
          "metadata": {
            "tags": []
          },
          "execution_count": 72
        }
      ]
    },
    {
      "cell_type": "code",
      "metadata": {
        "id": "Q-IwfJ45TrMM",
        "colab_type": "code",
        "colab": {
          "base_uri": "https://localhost:8080/",
          "height": 206
        },
        "outputId": "c0a41635-0449-4f0f-d139-10cd9e19d44b"
      },
      "source": [
        "sample_incomplete_rows.drop(\"total_bedrooms\", axis=1)       # option 1"
      ],
      "execution_count": null,
      "outputs": [
        {
          "output_type": "execute_result",
          "data": {
            "text/html": [
              "<div>\n",
              "<style scoped>\n",
              "    .dataframe tbody tr th:only-of-type {\n",
              "        vertical-align: middle;\n",
              "    }\n",
              "\n",
              "    .dataframe tbody tr th {\n",
              "        vertical-align: top;\n",
              "    }\n",
              "\n",
              "    .dataframe thead th {\n",
              "        text-align: right;\n",
              "    }\n",
              "</style>\n",
              "<table border=\"1\" class=\"dataframe\">\n",
              "  <thead>\n",
              "    <tr style=\"text-align: right;\">\n",
              "      <th></th>\n",
              "      <th>longitude</th>\n",
              "      <th>latitude</th>\n",
              "      <th>housing_median_age</th>\n",
              "      <th>total_rooms</th>\n",
              "      <th>population</th>\n",
              "      <th>households</th>\n",
              "      <th>median_income</th>\n",
              "      <th>ocean_proximity</th>\n",
              "    </tr>\n",
              "  </thead>\n",
              "  <tbody>\n",
              "    <tr>\n",
              "      <th>4629</th>\n",
              "      <td>-118.30</td>\n",
              "      <td>34.07</td>\n",
              "      <td>18.0</td>\n",
              "      <td>3759.0</td>\n",
              "      <td>3296.0</td>\n",
              "      <td>1462.0</td>\n",
              "      <td>2.2708</td>\n",
              "      <td>&lt;1H OCEAN</td>\n",
              "    </tr>\n",
              "    <tr>\n",
              "      <th>6068</th>\n",
              "      <td>-117.86</td>\n",
              "      <td>34.01</td>\n",
              "      <td>16.0</td>\n",
              "      <td>4632.0</td>\n",
              "      <td>3038.0</td>\n",
              "      <td>727.0</td>\n",
              "      <td>5.1762</td>\n",
              "      <td>&lt;1H OCEAN</td>\n",
              "    </tr>\n",
              "    <tr>\n",
              "      <th>17923</th>\n",
              "      <td>-121.97</td>\n",
              "      <td>37.35</td>\n",
              "      <td>30.0</td>\n",
              "      <td>1955.0</td>\n",
              "      <td>999.0</td>\n",
              "      <td>386.0</td>\n",
              "      <td>4.6328</td>\n",
              "      <td>&lt;1H OCEAN</td>\n",
              "    </tr>\n",
              "    <tr>\n",
              "      <th>13656</th>\n",
              "      <td>-117.30</td>\n",
              "      <td>34.05</td>\n",
              "      <td>6.0</td>\n",
              "      <td>2155.0</td>\n",
              "      <td>1039.0</td>\n",
              "      <td>391.0</td>\n",
              "      <td>1.6675</td>\n",
              "      <td>INLAND</td>\n",
              "    </tr>\n",
              "    <tr>\n",
              "      <th>19252</th>\n",
              "      <td>-122.79</td>\n",
              "      <td>38.48</td>\n",
              "      <td>7.0</td>\n",
              "      <td>6837.0</td>\n",
              "      <td>3468.0</td>\n",
              "      <td>1405.0</td>\n",
              "      <td>3.1662</td>\n",
              "      <td>&lt;1H OCEAN</td>\n",
              "    </tr>\n",
              "  </tbody>\n",
              "</table>\n",
              "</div>"
            ],
            "text/plain": [
              "       longitude  latitude  ...  median_income  ocean_proximity\n",
              "4629     -118.30     34.07  ...         2.2708        <1H OCEAN\n",
              "6068     -117.86     34.01  ...         5.1762        <1H OCEAN\n",
              "17923    -121.97     37.35  ...         4.6328        <1H OCEAN\n",
              "13656    -117.30     34.05  ...         1.6675           INLAND\n",
              "19252    -122.79     38.48  ...         3.1662        <1H OCEAN\n",
              "\n",
              "[5 rows x 8 columns]"
            ]
          },
          "metadata": {
            "tags": []
          },
          "execution_count": 73
        }
      ]
    },
    {
      "cell_type": "code",
      "metadata": {
        "id": "OlfADsU7T5H8",
        "colab_type": "code",
        "colab": {
          "base_uri": "https://localhost:8080/",
          "height": 49
        },
        "outputId": "1ab0e6e8-ad9a-4ed2-dba9-455f6b76e4a1"
      },
      "source": [
        "sample_incomplete_rows.dropna(subset=[\"total_bedrooms\"])    # option 2"
      ],
      "execution_count": null,
      "outputs": [
        {
          "output_type": "execute_result",
          "data": {
            "text/html": [
              "<div>\n",
              "<style scoped>\n",
              "    .dataframe tbody tr th:only-of-type {\n",
              "        vertical-align: middle;\n",
              "    }\n",
              "\n",
              "    .dataframe tbody tr th {\n",
              "        vertical-align: top;\n",
              "    }\n",
              "\n",
              "    .dataframe thead th {\n",
              "        text-align: right;\n",
              "    }\n",
              "</style>\n",
              "<table border=\"1\" class=\"dataframe\">\n",
              "  <thead>\n",
              "    <tr style=\"text-align: right;\">\n",
              "      <th></th>\n",
              "      <th>longitude</th>\n",
              "      <th>latitude</th>\n",
              "      <th>housing_median_age</th>\n",
              "      <th>total_rooms</th>\n",
              "      <th>total_bedrooms</th>\n",
              "      <th>population</th>\n",
              "      <th>households</th>\n",
              "      <th>median_income</th>\n",
              "      <th>ocean_proximity</th>\n",
              "    </tr>\n",
              "  </thead>\n",
              "  <tbody>\n",
              "  </tbody>\n",
              "</table>\n",
              "</div>"
            ],
            "text/plain": [
              "Empty DataFrame\n",
              "Columns: [longitude, latitude, housing_median_age, total_rooms, total_bedrooms, population, households, median_income, ocean_proximity]\n",
              "Index: []"
            ]
          },
          "metadata": {
            "tags": []
          },
          "execution_count": 74
        }
      ]
    },
    {
      "cell_type": "code",
      "metadata": {
        "id": "QJIu4gkVT8_w",
        "colab_type": "code",
        "colab": {
          "base_uri": "https://localhost:8080/",
          "height": 331
        },
        "outputId": "b436eee3-f982-46b8-9866-a18119bef734"
      },
      "source": [
        "median = housing[\"total_bedrooms\"].median()\n",
        "sample_incomplete_rows[\"total_bedrooms\"].fillna(median, inplace=True) # option 3\n",
        "print(sample_incomplete_rows.info())\n",
        "#We took 5 null samples and now its non-null"
      ],
      "execution_count": null,
      "outputs": [
        {
          "output_type": "stream",
          "text": [
            "<class 'pandas.core.frame.DataFrame'>\n",
            "Int64Index: 5 entries, 4629 to 19252\n",
            "Data columns (total 9 columns):\n",
            " #   Column              Non-Null Count  Dtype  \n",
            "---  ------              --------------  -----  \n",
            " 0   longitude           5 non-null      float64\n",
            " 1   latitude            5 non-null      float64\n",
            " 2   housing_median_age  5 non-null      float64\n",
            " 3   total_rooms         5 non-null      float64\n",
            " 4   total_bedrooms      5 non-null      float64\n",
            " 5   population          5 non-null      float64\n",
            " 6   households          5 non-null      float64\n",
            " 7   median_income       5 non-null      float64\n",
            " 8   ocean_proximity     5 non-null      object \n",
            "dtypes: float64(8), object(1)\n",
            "memory usage: 400.0+ bytes\n",
            "None\n"
          ],
          "name": "stdout"
        }
      ]
    },
    {
      "cell_type": "code",
      "metadata": {
        "id": "LY7O6VrgWjIW",
        "colab_type": "code",
        "colab": {
          "base_uri": "https://localhost:8080/",
          "height": 206
        },
        "outputId": "9092a589-4404-4cd9-cda1-cfe8d294b09f"
      },
      "source": [
        "sample_incomplete_rows\n",
        "#Earlier it was filled with NaN in total_bedrooms attribute\n",
        "#Now NaN is replaced with median value"
      ],
      "execution_count": null,
      "outputs": [
        {
          "output_type": "execute_result",
          "data": {
            "text/html": [
              "<div>\n",
              "<style scoped>\n",
              "    .dataframe tbody tr th:only-of-type {\n",
              "        vertical-align: middle;\n",
              "    }\n",
              "\n",
              "    .dataframe tbody tr th {\n",
              "        vertical-align: top;\n",
              "    }\n",
              "\n",
              "    .dataframe thead th {\n",
              "        text-align: right;\n",
              "    }\n",
              "</style>\n",
              "<table border=\"1\" class=\"dataframe\">\n",
              "  <thead>\n",
              "    <tr style=\"text-align: right;\">\n",
              "      <th></th>\n",
              "      <th>longitude</th>\n",
              "      <th>latitude</th>\n",
              "      <th>housing_median_age</th>\n",
              "      <th>total_rooms</th>\n",
              "      <th>total_bedrooms</th>\n",
              "      <th>population</th>\n",
              "      <th>households</th>\n",
              "      <th>median_income</th>\n",
              "      <th>ocean_proximity</th>\n",
              "    </tr>\n",
              "  </thead>\n",
              "  <tbody>\n",
              "    <tr>\n",
              "      <th>4629</th>\n",
              "      <td>-118.30</td>\n",
              "      <td>34.07</td>\n",
              "      <td>18.0</td>\n",
              "      <td>3759.0</td>\n",
              "      <td>433.0</td>\n",
              "      <td>3296.0</td>\n",
              "      <td>1462.0</td>\n",
              "      <td>2.2708</td>\n",
              "      <td>&lt;1H OCEAN</td>\n",
              "    </tr>\n",
              "    <tr>\n",
              "      <th>6068</th>\n",
              "      <td>-117.86</td>\n",
              "      <td>34.01</td>\n",
              "      <td>16.0</td>\n",
              "      <td>4632.0</td>\n",
              "      <td>433.0</td>\n",
              "      <td>3038.0</td>\n",
              "      <td>727.0</td>\n",
              "      <td>5.1762</td>\n",
              "      <td>&lt;1H OCEAN</td>\n",
              "    </tr>\n",
              "    <tr>\n",
              "      <th>17923</th>\n",
              "      <td>-121.97</td>\n",
              "      <td>37.35</td>\n",
              "      <td>30.0</td>\n",
              "      <td>1955.0</td>\n",
              "      <td>433.0</td>\n",
              "      <td>999.0</td>\n",
              "      <td>386.0</td>\n",
              "      <td>4.6328</td>\n",
              "      <td>&lt;1H OCEAN</td>\n",
              "    </tr>\n",
              "    <tr>\n",
              "      <th>13656</th>\n",
              "      <td>-117.30</td>\n",
              "      <td>34.05</td>\n",
              "      <td>6.0</td>\n",
              "      <td>2155.0</td>\n",
              "      <td>433.0</td>\n",
              "      <td>1039.0</td>\n",
              "      <td>391.0</td>\n",
              "      <td>1.6675</td>\n",
              "      <td>INLAND</td>\n",
              "    </tr>\n",
              "    <tr>\n",
              "      <th>19252</th>\n",
              "      <td>-122.79</td>\n",
              "      <td>38.48</td>\n",
              "      <td>7.0</td>\n",
              "      <td>6837.0</td>\n",
              "      <td>433.0</td>\n",
              "      <td>3468.0</td>\n",
              "      <td>1405.0</td>\n",
              "      <td>3.1662</td>\n",
              "      <td>&lt;1H OCEAN</td>\n",
              "    </tr>\n",
              "  </tbody>\n",
              "</table>\n",
              "</div>"
            ],
            "text/plain": [
              "       longitude  latitude  ...  median_income  ocean_proximity\n",
              "4629     -118.30     34.07  ...         2.2708        <1H OCEAN\n",
              "6068     -117.86     34.01  ...         5.1762        <1H OCEAN\n",
              "17923    -121.97     37.35  ...         4.6328        <1H OCEAN\n",
              "13656    -117.30     34.05  ...         1.6675           INLAND\n",
              "19252    -122.79     38.48  ...         3.1662        <1H OCEAN\n",
              "\n",
              "[5 rows x 9 columns]"
            ]
          },
          "metadata": {
            "tags": []
          },
          "execution_count": 92
        }
      ]
    },
    {
      "cell_type": "markdown",
      "metadata": {
        "id": "19B2bfvtUqGT",
        "colab_type": "text"
      },
      "source": [
        "### Using library to fill null values with median"
      ]
    },
    {
      "cell_type": "code",
      "metadata": {
        "id": "-12SdbvvUE7H",
        "colab_type": "code",
        "colab": {}
      },
      "source": [
        "from sklearn.impute import SimpleImputer\n",
        "imputer = SimpleImputer(strategy=\"median\")"
      ],
      "execution_count": null,
      "outputs": []
    },
    {
      "cell_type": "markdown",
      "metadata": {
        "id": "bLxVPnSIU4er",
        "colab_type": "text"
      },
      "source": [
        "Remove categorical attributes since mean can only be calculated for numerical attributes"
      ]
    },
    {
      "cell_type": "code",
      "metadata": {
        "id": "va-nkNwSU1Q-",
        "colab_type": "code",
        "colab": {}
      },
      "source": [
        "housing_num = housing.drop(\"ocean_proximity\" , axis = 1)"
      ],
      "execution_count": null,
      "outputs": []
    },
    {
      "cell_type": "code",
      "metadata": {
        "id": "Wup9fDSmVKJH",
        "colab_type": "code",
        "colab": {
          "base_uri": "https://localhost:8080/",
          "height": 54
        },
        "outputId": "2ff54714-c83b-4586-8e78-8848b8ea12e8"
      },
      "source": [
        "imputer.fit(housing_num)"
      ],
      "execution_count": null,
      "outputs": [
        {
          "output_type": "execute_result",
          "data": {
            "text/plain": [
              "SimpleImputer(add_indicator=False, copy=True, fill_value=None,\n",
              "              missing_values=nan, strategy='median', verbose=0)"
            ]
          },
          "metadata": {
            "tags": []
          },
          "execution_count": 79
        }
      ]
    },
    {
      "cell_type": "code",
      "metadata": {
        "id": "IU7PDZcLVN9N",
        "colab_type": "code",
        "colab": {
          "base_uri": "https://localhost:8080/",
          "height": 54
        },
        "outputId": "08a953fc-1335-4ef8-e536-ace92ce3c46b"
      },
      "source": [
        "imputer.statistics_\n",
        "#Same as housing_num.median().values"
      ],
      "execution_count": null,
      "outputs": [
        {
          "output_type": "execute_result",
          "data": {
            "text/plain": [
              "array([-118.51  ,   34.26  ,   29.    , 2119.5   ,  433.    , 1164.    ,\n",
              "        408.    ,    3.5409])"
            ]
          },
          "metadata": {
            "tags": []
          },
          "execution_count": 80
        }
      ]
    },
    {
      "cell_type": "code",
      "metadata": {
        "id": "LRVMvsE4VTXU",
        "colab_type": "code",
        "colab": {
          "base_uri": "https://localhost:8080/",
          "height": 54
        },
        "outputId": "1ab60a3e-5480-41da-f6f2-ac5dfc8f9798"
      },
      "source": [
        "housing_num.median().values"
      ],
      "execution_count": null,
      "outputs": [
        {
          "output_type": "execute_result",
          "data": {
            "text/plain": [
              "array([-118.51  ,   34.26  ,   29.    , 2119.5   ,  433.    , 1164.    ,\n",
              "        408.    ,    3.5409])"
            ]
          },
          "metadata": {
            "tags": []
          },
          "execution_count": 82
        }
      ]
    },
    {
      "cell_type": "markdown",
      "metadata": {
        "id": "Hx0KNqqGVpIO",
        "colab_type": "text"
      },
      "source": [
        "### Transform the training dataset\n",
        "* Dealing with numerical attributes\n",
        "* Dealing with categorical attributes"
      ]
    },
    {
      "cell_type": "code",
      "metadata": {
        "id": "XpTT4i87VkI6",
        "colab_type": "code",
        "colab": {
          "base_uri": "https://localhost:8080/",
          "height": 183
        },
        "outputId": "f4373a04-fd6a-452f-920e-62535de50ede"
      },
      "source": [
        "X = imputer.transform(housing_num)\n",
        "print(housing_num.columns)\n",
        "print(housing_num.index)"
      ],
      "execution_count": null,
      "outputs": [
        {
          "output_type": "stream",
          "text": [
            "Index(['longitude', 'latitude', 'housing_median_age', 'total_rooms',\n",
            "       'total_bedrooms', 'population', 'households', 'median_income'],\n",
            "      dtype='object')\n",
            "Int64Index([17606, 18632, 14650,  3230,  3555, 19480,  8879, 13685,  4937,\n",
            "             4861,\n",
            "            ...\n",
            "            15270,  3754, 12166,  6003,  7364,  6563, 12053, 13908, 11159,\n",
            "            15775],\n",
            "           dtype='int64', length=16512)\n"
          ],
          "name": "stdout"
        }
      ]
    },
    {
      "cell_type": "code",
      "metadata": {
        "id": "9PHjfam1V-cp",
        "colab_type": "code",
        "colab": {
          "base_uri": "https://localhost:8080/",
          "height": 206
        },
        "outputId": "641e2e36-c2f5-402e-af0b-525afa810a01"
      },
      "source": [
        "#Converting X to a pandas dataframe\n",
        "housing_tr = pd.DataFrame(X , columns = housing_num.columns , index=housing_num.index)\n",
        "housing_tr.head()"
      ],
      "execution_count": null,
      "outputs": [
        {
          "output_type": "execute_result",
          "data": {
            "text/html": [
              "<div>\n",
              "<style scoped>\n",
              "    .dataframe tbody tr th:only-of-type {\n",
              "        vertical-align: middle;\n",
              "    }\n",
              "\n",
              "    .dataframe tbody tr th {\n",
              "        vertical-align: top;\n",
              "    }\n",
              "\n",
              "    .dataframe thead th {\n",
              "        text-align: right;\n",
              "    }\n",
              "</style>\n",
              "<table border=\"1\" class=\"dataframe\">\n",
              "  <thead>\n",
              "    <tr style=\"text-align: right;\">\n",
              "      <th></th>\n",
              "      <th>longitude</th>\n",
              "      <th>latitude</th>\n",
              "      <th>housing_median_age</th>\n",
              "      <th>total_rooms</th>\n",
              "      <th>total_bedrooms</th>\n",
              "      <th>population</th>\n",
              "      <th>households</th>\n",
              "      <th>median_income</th>\n",
              "    </tr>\n",
              "  </thead>\n",
              "  <tbody>\n",
              "    <tr>\n",
              "      <th>17606</th>\n",
              "      <td>-121.89</td>\n",
              "      <td>37.29</td>\n",
              "      <td>38.0</td>\n",
              "      <td>1568.0</td>\n",
              "      <td>351.0</td>\n",
              "      <td>710.0</td>\n",
              "      <td>339.0</td>\n",
              "      <td>2.7042</td>\n",
              "    </tr>\n",
              "    <tr>\n",
              "      <th>18632</th>\n",
              "      <td>-121.93</td>\n",
              "      <td>37.05</td>\n",
              "      <td>14.0</td>\n",
              "      <td>679.0</td>\n",
              "      <td>108.0</td>\n",
              "      <td>306.0</td>\n",
              "      <td>113.0</td>\n",
              "      <td>6.4214</td>\n",
              "    </tr>\n",
              "    <tr>\n",
              "      <th>14650</th>\n",
              "      <td>-117.20</td>\n",
              "      <td>32.77</td>\n",
              "      <td>31.0</td>\n",
              "      <td>1952.0</td>\n",
              "      <td>471.0</td>\n",
              "      <td>936.0</td>\n",
              "      <td>462.0</td>\n",
              "      <td>2.8621</td>\n",
              "    </tr>\n",
              "    <tr>\n",
              "      <th>3230</th>\n",
              "      <td>-119.61</td>\n",
              "      <td>36.31</td>\n",
              "      <td>25.0</td>\n",
              "      <td>1847.0</td>\n",
              "      <td>371.0</td>\n",
              "      <td>1460.0</td>\n",
              "      <td>353.0</td>\n",
              "      <td>1.8839</td>\n",
              "    </tr>\n",
              "    <tr>\n",
              "      <th>3555</th>\n",
              "      <td>-118.59</td>\n",
              "      <td>34.23</td>\n",
              "      <td>17.0</td>\n",
              "      <td>6592.0</td>\n",
              "      <td>1525.0</td>\n",
              "      <td>4459.0</td>\n",
              "      <td>1463.0</td>\n",
              "      <td>3.0347</td>\n",
              "    </tr>\n",
              "  </tbody>\n",
              "</table>\n",
              "</div>"
            ],
            "text/plain": [
              "       longitude  latitude  ...  households  median_income\n",
              "17606    -121.89     37.29  ...       339.0         2.7042\n",
              "18632    -121.93     37.05  ...       113.0         6.4214\n",
              "14650    -117.20     32.77  ...       462.0         2.8621\n",
              "3230     -119.61     36.31  ...       353.0         1.8839\n",
              "3555     -118.59     34.23  ...      1463.0         3.0347\n",
              "\n",
              "[5 rows x 8 columns]"
            ]
          },
          "metadata": {
            "tags": []
          },
          "execution_count": 102
        }
      ]
    },
    {
      "cell_type": "code",
      "metadata": {
        "id": "EOnvvPK0XNkx",
        "colab_type": "code",
        "colab": {
          "base_uri": "https://localhost:8080/",
          "height": 206
        },
        "outputId": "6bce7ff4-0c2e-4274-fe8b-7c900d736d8f"
      },
      "source": [
        "housing_tr.loc[sample_incomplete_rows.index.values]\n",
        "#We did this as option 3 (Without library)"
      ],
      "execution_count": null,
      "outputs": [
        {
          "output_type": "execute_result",
          "data": {
            "text/html": [
              "<div>\n",
              "<style scoped>\n",
              "    .dataframe tbody tr th:only-of-type {\n",
              "        vertical-align: middle;\n",
              "    }\n",
              "\n",
              "    .dataframe tbody tr th {\n",
              "        vertical-align: top;\n",
              "    }\n",
              "\n",
              "    .dataframe thead th {\n",
              "        text-align: right;\n",
              "    }\n",
              "</style>\n",
              "<table border=\"1\" class=\"dataframe\">\n",
              "  <thead>\n",
              "    <tr style=\"text-align: right;\">\n",
              "      <th></th>\n",
              "      <th>longitude</th>\n",
              "      <th>latitude</th>\n",
              "      <th>housing_median_age</th>\n",
              "      <th>total_rooms</th>\n",
              "      <th>total_bedrooms</th>\n",
              "      <th>population</th>\n",
              "      <th>households</th>\n",
              "      <th>median_income</th>\n",
              "    </tr>\n",
              "  </thead>\n",
              "  <tbody>\n",
              "    <tr>\n",
              "      <th>4629</th>\n",
              "      <td>-118.30</td>\n",
              "      <td>34.07</td>\n",
              "      <td>18.0</td>\n",
              "      <td>3759.0</td>\n",
              "      <td>433.0</td>\n",
              "      <td>3296.0</td>\n",
              "      <td>1462.0</td>\n",
              "      <td>2.2708</td>\n",
              "    </tr>\n",
              "    <tr>\n",
              "      <th>6068</th>\n",
              "      <td>-117.86</td>\n",
              "      <td>34.01</td>\n",
              "      <td>16.0</td>\n",
              "      <td>4632.0</td>\n",
              "      <td>433.0</td>\n",
              "      <td>3038.0</td>\n",
              "      <td>727.0</td>\n",
              "      <td>5.1762</td>\n",
              "    </tr>\n",
              "    <tr>\n",
              "      <th>17923</th>\n",
              "      <td>-121.97</td>\n",
              "      <td>37.35</td>\n",
              "      <td>30.0</td>\n",
              "      <td>1955.0</td>\n",
              "      <td>433.0</td>\n",
              "      <td>999.0</td>\n",
              "      <td>386.0</td>\n",
              "      <td>4.6328</td>\n",
              "    </tr>\n",
              "    <tr>\n",
              "      <th>13656</th>\n",
              "      <td>-117.30</td>\n",
              "      <td>34.05</td>\n",
              "      <td>6.0</td>\n",
              "      <td>2155.0</td>\n",
              "      <td>433.0</td>\n",
              "      <td>1039.0</td>\n",
              "      <td>391.0</td>\n",
              "      <td>1.6675</td>\n",
              "    </tr>\n",
              "    <tr>\n",
              "      <th>19252</th>\n",
              "      <td>-122.79</td>\n",
              "      <td>38.48</td>\n",
              "      <td>7.0</td>\n",
              "      <td>6837.0</td>\n",
              "      <td>433.0</td>\n",
              "      <td>3468.0</td>\n",
              "      <td>1405.0</td>\n",
              "      <td>3.1662</td>\n",
              "    </tr>\n",
              "  </tbody>\n",
              "</table>\n",
              "</div>"
            ],
            "text/plain": [
              "       longitude  latitude  ...  households  median_income\n",
              "4629     -118.30     34.07  ...      1462.0         2.2708\n",
              "6068     -117.86     34.01  ...       727.0         5.1762\n",
              "17923    -121.97     37.35  ...       386.0         4.6328\n",
              "13656    -117.30     34.05  ...       391.0         1.6675\n",
              "19252    -122.79     38.48  ...      1405.0         3.1662\n",
              "\n",
              "[5 rows x 8 columns]"
            ]
          },
          "metadata": {
            "tags": []
          },
          "execution_count": 101
        }
      ]
    },
    {
      "cell_type": "markdown",
      "metadata": {
        "id": "8ZVTT-N6Y8Yk",
        "colab_type": "text"
      },
      "source": [
        "Now its time to deal with categorical attributes\n",
        "* We can use Ordinal encoder or One Hot encoder"
      ]
    },
    {
      "cell_type": "code",
      "metadata": {
        "id": "QRRPQKmcX7SE",
        "colab_type": "code",
        "colab": {}
      },
      "source": [
        "housing_cat = housing[[\"ocean_proximity\"]]"
      ],
      "execution_count": null,
      "outputs": []
    },
    {
      "cell_type": "code",
      "metadata": {
        "id": "eN2i2VudZPIg",
        "colab_type": "code",
        "colab": {
          "base_uri": "https://localhost:8080/",
          "height": 206
        },
        "outputId": "5a10293d-464e-48c2-eb5d-bcfaf79b0c81"
      },
      "source": [
        "housing_cat.head()"
      ],
      "execution_count": null,
      "outputs": [
        {
          "output_type": "execute_result",
          "data": {
            "text/html": [
              "<div>\n",
              "<style scoped>\n",
              "    .dataframe tbody tr th:only-of-type {\n",
              "        vertical-align: middle;\n",
              "    }\n",
              "\n",
              "    .dataframe tbody tr th {\n",
              "        vertical-align: top;\n",
              "    }\n",
              "\n",
              "    .dataframe thead th {\n",
              "        text-align: right;\n",
              "    }\n",
              "</style>\n",
              "<table border=\"1\" class=\"dataframe\">\n",
              "  <thead>\n",
              "    <tr style=\"text-align: right;\">\n",
              "      <th></th>\n",
              "      <th>ocean_proximity</th>\n",
              "    </tr>\n",
              "  </thead>\n",
              "  <tbody>\n",
              "    <tr>\n",
              "      <th>17606</th>\n",
              "      <td>&lt;1H OCEAN</td>\n",
              "    </tr>\n",
              "    <tr>\n",
              "      <th>18632</th>\n",
              "      <td>&lt;1H OCEAN</td>\n",
              "    </tr>\n",
              "    <tr>\n",
              "      <th>14650</th>\n",
              "      <td>NEAR OCEAN</td>\n",
              "    </tr>\n",
              "    <tr>\n",
              "      <th>3230</th>\n",
              "      <td>INLAND</td>\n",
              "    </tr>\n",
              "    <tr>\n",
              "      <th>3555</th>\n",
              "      <td>&lt;1H OCEAN</td>\n",
              "    </tr>\n",
              "  </tbody>\n",
              "</table>\n",
              "</div>"
            ],
            "text/plain": [
              "      ocean_proximity\n",
              "17606       <1H OCEAN\n",
              "18632       <1H OCEAN\n",
              "14650      NEAR OCEAN\n",
              "3230           INLAND\n",
              "3555        <1H OCEAN"
            ]
          },
          "metadata": {
            "tags": []
          },
          "execution_count": 106
        }
      ]
    },
    {
      "cell_type": "code",
      "metadata": {
        "id": "k9sY56RzZRhy",
        "colab_type": "code",
        "colab": {
          "base_uri": "https://localhost:8080/",
          "height": 202
        },
        "outputId": "701460f8-10a8-475a-b823-f3d5c327fbab"
      },
      "source": [
        "#Using Ordinal Encoder\n",
        "from sklearn.preprocessing import OrdinalEncoder\n",
        "\n",
        "ordinal_encoder = OrdinalEncoder()\n",
        "housing_cat_encoded = ordinal_encoder.fit_transform(housing_cat)\n",
        "housing_cat_encoded[:10]"
      ],
      "execution_count": null,
      "outputs": [
        {
          "output_type": "execute_result",
          "data": {
            "text/plain": [
              "array([[0.],\n",
              "       [0.],\n",
              "       [4.],\n",
              "       [1.],\n",
              "       [0.],\n",
              "       [1.],\n",
              "       [0.],\n",
              "       [1.],\n",
              "       [0.],\n",
              "       [0.]])"
            ]
          },
          "metadata": {
            "tags": []
          },
          "execution_count": 107
        }
      ]
    },
    {
      "cell_type": "code",
      "metadata": {
        "id": "-_Wl3P9SZnJq",
        "colab_type": "code",
        "colab": {
          "base_uri": "https://localhost:8080/",
          "height": 54
        },
        "outputId": "9d3d5c8d-c1b9-4b9c-fb9c-7dc973b30e49"
      },
      "source": [
        "#Sub categories in the categorical attribute 'ocean_proximity'\n",
        "ordinal_encoder.categories_"
      ],
      "execution_count": null,
      "outputs": [
        {
          "output_type": "execute_result",
          "data": {
            "text/plain": [
              "[array(['<1H OCEAN', 'INLAND', 'ISLAND', 'NEAR BAY', 'NEAR OCEAN'],\n",
              "       dtype=object)]"
            ]
          },
          "metadata": {
            "tags": []
          },
          "execution_count": 109
        }
      ]
    },
    {
      "cell_type": "code",
      "metadata": {
        "id": "x_TTh-EpZu18",
        "colab_type": "code",
        "colab": {
          "base_uri": "https://localhost:8080/",
          "height": 54
        },
        "outputId": "18ca8c08-4a2f-443f-f723-1d95a6f64b8a"
      },
      "source": [
        "from sklearn.preprocessing import OneHotEncoder\n",
        "\n",
        "cat_encoder = OneHotEncoder()\n",
        "housing_cat_1hot = cat_encoder.fit_transform(housing_cat)\n",
        "housing_cat_1hot"
      ],
      "execution_count": null,
      "outputs": [
        {
          "output_type": "execute_result",
          "data": {
            "text/plain": [
              "<16512x5 sparse matrix of type '<class 'numpy.float64'>'\n",
              "\twith 16512 stored elements in Compressed Sparse Row format>"
            ]
          },
          "metadata": {
            "tags": []
          },
          "execution_count": 110
        }
      ]
    },
    {
      "cell_type": "markdown",
      "metadata": {
        "id": "kk85BxMHaAJx",
        "colab_type": "text"
      },
      "source": [
        "* By default one hot encoder class returns a sparse matrix, but we can change to dense array by using .toarray()\n",
        "* Alternatively, we can set sparse = False when we intialise OneHotEncoder()"
      ]
    },
    {
      "cell_type": "code",
      "metadata": {
        "id": "moPlEJzKZ7mK",
        "colab_type": "code",
        "colab": {
          "base_uri": "https://localhost:8080/",
          "height": 146
        },
        "outputId": "dfdff278-b6cd-47fe-c32c-82aa8c43a2a3"
      },
      "source": [
        "housing_cat_1hot.toarray()"
      ],
      "execution_count": null,
      "outputs": [
        {
          "output_type": "execute_result",
          "data": {
            "text/plain": [
              "array([[1., 0., 0., 0., 0.],\n",
              "       [1., 0., 0., 0., 0.],\n",
              "       [0., 0., 0., 0., 1.],\n",
              "       ...,\n",
              "       [0., 1., 0., 0., 0.],\n",
              "       [1., 0., 0., 0., 0.],\n",
              "       [0., 0., 0., 1., 0.]])"
            ]
          },
          "metadata": {
            "tags": []
          },
          "execution_count": 111
        }
      ]
    },
    {
      "cell_type": "code",
      "metadata": {
        "id": "cbmIY941aOTd",
        "colab_type": "code",
        "colab": {
          "base_uri": "https://localhost:8080/",
          "height": 146
        },
        "outputId": "721bc9fd-1ee7-4837-a26f-5818963abf78"
      },
      "source": [
        "cat_encoder = OneHotEncoder(sparse=False)\n",
        "housing_cat_1hot = cat_encoder.fit_transform(housing_cat)\n",
        "housing_cat_1hot"
      ],
      "execution_count": null,
      "outputs": [
        {
          "output_type": "execute_result",
          "data": {
            "text/plain": [
              "array([[1., 0., 0., 0., 0.],\n",
              "       [1., 0., 0., 0., 0.],\n",
              "       [0., 0., 0., 0., 1.],\n",
              "       ...,\n",
              "       [0., 1., 0., 0., 0.],\n",
              "       [1., 0., 0., 0., 0.],\n",
              "       [0., 0., 0., 1., 0.]])"
            ]
          },
          "metadata": {
            "tags": []
          },
          "execution_count": 113
        }
      ]
    },
    {
      "cell_type": "code",
      "metadata": {
        "id": "AO2GmeFWaeKO",
        "colab_type": "code",
        "colab": {
          "base_uri": "https://localhost:8080/",
          "height": 54
        },
        "outputId": "8ccfdce3-7bc7-4eb0-eb2f-acd40554f618"
      },
      "source": [
        "cat_encoder.categories_"
      ],
      "execution_count": null,
      "outputs": [
        {
          "output_type": "execute_result",
          "data": {
            "text/plain": [
              "[array(['<1H OCEAN', 'INLAND', 'ISLAND', 'NEAR BAY', 'NEAR OCEAN'],\n",
              "       dtype=object)]"
            ]
          },
          "metadata": {
            "tags": []
          },
          "execution_count": 116
        }
      ]
    },
    {
      "cell_type": "markdown",
      "metadata": {
        "id": "IDDKP4uOatFx",
        "colab_type": "text"
      },
      "source": [
        "### Adding a custom transformer to add extra attributes\n",
        "* Say we want another column that gives the number of bedroom per household, then we can implement a custom transformer as follows  :"
      ]
    },
    {
      "cell_type": "code",
      "metadata": {
        "id": "XRqbMTh5aoew",
        "colab_type": "code",
        "colab": {}
      },
      "source": [
        "from sklearn.base import BaseEstimator, TransformerMixin\n",
        "\n",
        "# column index\n",
        "rooms_ix, bedrooms_ix, population_ix, households_ix = 3, 4, 5, 6\n",
        "\n",
        "class CombinedAttributesAdder(BaseEstimator, TransformerMixin):\n",
        "    def __init__(self, add_bedrooms_per_room = True): # no *args or **kargs\n",
        "        self.add_bedrooms_per_room = add_bedrooms_per_room\n",
        "    def fit(self, X, y=None):\n",
        "        return self  # nothing else to do\n",
        "    def transform(self, X):\n",
        "        rooms_per_household = X[:, rooms_ix] / X[:, households_ix]\n",
        "        population_per_household = X[:, population_ix] / X[:, households_ix]\n",
        "        if self.add_bedrooms_per_room:\n",
        "            bedrooms_per_room = X[:, bedrooms_ix] / X[:, rooms_ix]\n",
        "            return np.c_[X, rooms_per_household, population_per_household,\n",
        "                         bedrooms_per_room]\n",
        "        else:\n",
        "            return np.c_[X, rooms_per_household, population_per_household]\n",
        "\n",
        "attr_adder = CombinedAttributesAdder(add_bedrooms_per_room=True)\n",
        "housing_extra_attribs = attr_adder.transform(housing.values)"
      ],
      "execution_count": null,
      "outputs": []
    },
    {
      "cell_type": "code",
      "metadata": {
        "id": "gqxtbMZPzffQ",
        "colab_type": "code",
        "colab": {
          "base_uri": "https://localhost:8080/",
          "height": 257
        },
        "outputId": "c9229fda-613e-409d-dad8-1b85c348382e"
      },
      "source": [
        "housing_extra_attribs"
      ],
      "execution_count": null,
      "outputs": [
        {
          "output_type": "execute_result",
          "data": {
            "text/plain": [
              "array([[-121.89, 37.29, 38.0, ..., 4.625368731563422, 2.094395280235988,\n",
              "        0.22385204081632654],\n",
              "       [-121.93, 37.05, 14.0, ..., 6.008849557522124, 2.7079646017699117,\n",
              "        0.15905743740795286],\n",
              "       [-117.2, 32.77, 31.0, ..., 4.225108225108225, 2.0259740259740258,\n",
              "        0.24129098360655737],\n",
              "       ...,\n",
              "       [-116.4, 34.09, 9.0, ..., 6.34640522875817, 2.742483660130719,\n",
              "        0.1796086508753862],\n",
              "       [-118.01, 33.82, 31.0, ..., 5.50561797752809, 3.808988764044944,\n",
              "        0.19387755102040816],\n",
              "       [-122.45, 37.77, 52.0, ..., 4.843505477308295, 1.9859154929577465,\n",
              "        0.22035541195476574]], dtype=object)"
            ]
          },
          "metadata": {
            "tags": []
          },
          "execution_count": 124
        }
      ]
    },
    {
      "cell_type": "code",
      "metadata": {
        "id": "YYQ3CIkizPUP",
        "colab_type": "code",
        "colab": {
          "base_uri": "https://localhost:8080/",
          "height": 226
        },
        "outputId": "bac1b055-e202-498d-f634-cad63a8c5fff"
      },
      "source": [
        "#Creating a new DataFrame\n",
        "housing_extra_attribs = pd.DataFrame(\n",
        "    housing_extra_attribs,\n",
        "    columns=list(housing.columns)+[\"rooms_per_household\", \"population_per_household\" ,\"bedrooms_per_room\" ],\n",
        "    index=housing.index)\n",
        "housing_extra_attribs.head()"
      ],
      "execution_count": null,
      "outputs": [
        {
          "output_type": "execute_result",
          "data": {
            "text/html": [
              "<div>\n",
              "<style scoped>\n",
              "    .dataframe tbody tr th:only-of-type {\n",
              "        vertical-align: middle;\n",
              "    }\n",
              "\n",
              "    .dataframe tbody tr th {\n",
              "        vertical-align: top;\n",
              "    }\n",
              "\n",
              "    .dataframe thead th {\n",
              "        text-align: right;\n",
              "    }\n",
              "</style>\n",
              "<table border=\"1\" class=\"dataframe\">\n",
              "  <thead>\n",
              "    <tr style=\"text-align: right;\">\n",
              "      <th></th>\n",
              "      <th>longitude</th>\n",
              "      <th>latitude</th>\n",
              "      <th>housing_median_age</th>\n",
              "      <th>total_rooms</th>\n",
              "      <th>total_bedrooms</th>\n",
              "      <th>population</th>\n",
              "      <th>households</th>\n",
              "      <th>median_income</th>\n",
              "      <th>ocean_proximity</th>\n",
              "      <th>rooms_per_household</th>\n",
              "      <th>population_per_household</th>\n",
              "      <th>bedrooms_per_room</th>\n",
              "    </tr>\n",
              "  </thead>\n",
              "  <tbody>\n",
              "    <tr>\n",
              "      <th>17606</th>\n",
              "      <td>-121.89</td>\n",
              "      <td>37.29</td>\n",
              "      <td>38</td>\n",
              "      <td>1568</td>\n",
              "      <td>351</td>\n",
              "      <td>710</td>\n",
              "      <td>339</td>\n",
              "      <td>2.7042</td>\n",
              "      <td>&lt;1H OCEAN</td>\n",
              "      <td>4.62537</td>\n",
              "      <td>2.0944</td>\n",
              "      <td>0.223852</td>\n",
              "    </tr>\n",
              "    <tr>\n",
              "      <th>18632</th>\n",
              "      <td>-121.93</td>\n",
              "      <td>37.05</td>\n",
              "      <td>14</td>\n",
              "      <td>679</td>\n",
              "      <td>108</td>\n",
              "      <td>306</td>\n",
              "      <td>113</td>\n",
              "      <td>6.4214</td>\n",
              "      <td>&lt;1H OCEAN</td>\n",
              "      <td>6.00885</td>\n",
              "      <td>2.70796</td>\n",
              "      <td>0.159057</td>\n",
              "    </tr>\n",
              "    <tr>\n",
              "      <th>14650</th>\n",
              "      <td>-117.2</td>\n",
              "      <td>32.77</td>\n",
              "      <td>31</td>\n",
              "      <td>1952</td>\n",
              "      <td>471</td>\n",
              "      <td>936</td>\n",
              "      <td>462</td>\n",
              "      <td>2.8621</td>\n",
              "      <td>NEAR OCEAN</td>\n",
              "      <td>4.22511</td>\n",
              "      <td>2.02597</td>\n",
              "      <td>0.241291</td>\n",
              "    </tr>\n",
              "    <tr>\n",
              "      <th>3230</th>\n",
              "      <td>-119.61</td>\n",
              "      <td>36.31</td>\n",
              "      <td>25</td>\n",
              "      <td>1847</td>\n",
              "      <td>371</td>\n",
              "      <td>1460</td>\n",
              "      <td>353</td>\n",
              "      <td>1.8839</td>\n",
              "      <td>INLAND</td>\n",
              "      <td>5.23229</td>\n",
              "      <td>4.13598</td>\n",
              "      <td>0.200866</td>\n",
              "    </tr>\n",
              "    <tr>\n",
              "      <th>3555</th>\n",
              "      <td>-118.59</td>\n",
              "      <td>34.23</td>\n",
              "      <td>17</td>\n",
              "      <td>6592</td>\n",
              "      <td>1525</td>\n",
              "      <td>4459</td>\n",
              "      <td>1463</td>\n",
              "      <td>3.0347</td>\n",
              "      <td>&lt;1H OCEAN</td>\n",
              "      <td>4.50581</td>\n",
              "      <td>3.04785</td>\n",
              "      <td>0.231341</td>\n",
              "    </tr>\n",
              "  </tbody>\n",
              "</table>\n",
              "</div>"
            ],
            "text/plain": [
              "      longitude latitude  ... population_per_household bedrooms_per_room\n",
              "17606   -121.89    37.29  ...                   2.0944          0.223852\n",
              "18632   -121.93    37.05  ...                  2.70796          0.159057\n",
              "14650    -117.2    32.77  ...                  2.02597          0.241291\n",
              "3230    -119.61    36.31  ...                  4.13598          0.200866\n",
              "3555    -118.59    34.23  ...                  3.04785          0.231341\n",
              "\n",
              "[5 rows x 12 columns]"
            ]
          },
          "metadata": {
            "tags": []
          },
          "execution_count": 127
        }
      ]
    },
    {
      "cell_type": "markdown",
      "metadata": {
        "id": "sIiWk4DN1EmI",
        "colab_type": "text"
      },
      "source": [
        "##PIPELINE"
      ]
    },
    {
      "cell_type": "code",
      "metadata": {
        "id": "37bd-WZEzTV5",
        "colab_type": "code",
        "colab": {}
      },
      "source": [
        "from sklearn.pipeline import Pipeline\n",
        "from sklearn.preprocessing import StandardScaler\n",
        "\n",
        "num_pipeline = Pipeline([\n",
        "        ('imputer', SimpleImputer(strategy=\"median\")),\n",
        "        ('attribs_adder', CombinedAttributesAdder()),\n",
        "        ('std_scaler', StandardScaler()),\n",
        "    ])\n",
        "\n",
        "housing_num_tr = num_pipeline.fit_transform(housing_num)"
      ],
      "execution_count": null,
      "outputs": []
    },
    {
      "cell_type": "code",
      "metadata": {
        "id": "Wcq7PebJGWLW",
        "colab_type": "code",
        "colab": {
          "base_uri": "https://localhost:8080/",
          "height": 35
        },
        "outputId": "d25dffb5-f193-40a8-ce41-dd716ff8f7dd"
      },
      "source": [
        "list(housing_num)\n",
        "cat_attributes = [\"ocean_proximity\"]\n",
        "cat_attributes"
      ],
      "execution_count": null,
      "outputs": [
        {
          "output_type": "execute_result",
          "data": {
            "text/plain": [
              "['ocean_proximity']"
            ]
          },
          "metadata": {
            "tags": []
          },
          "execution_count": 133
        }
      ]
    },
    {
      "cell_type": "code",
      "metadata": {
        "id": "Pc_Mrf0H04IW",
        "colab_type": "code",
        "colab": {}
      },
      "source": [
        "#Full preprocessing using pipeline\n",
        "from sklearn.compose import ColumnTransformer\n",
        "\n",
        "num_attributes = list(housing_num)\n",
        "cat_attributes = [\"ocean_proximity\"]\n",
        "\n",
        "full_pipeline = ColumnTransformer([\n",
        "                                   (\"num\", num_pipeline, num_attributes),\n",
        "                                   (\"cat\",OneHotEncoder(),cat_attributes),\n",
        "])\n",
        "\n",
        "housing_prepared = full_pipeline.fit_transform(housing)"
      ],
      "execution_count": null,
      "outputs": []
    },
    {
      "cell_type": "code",
      "metadata": {
        "id": "_8elbGe8IDbL",
        "colab_type": "code",
        "colab": {
          "base_uri": "https://localhost:8080/",
          "height": 35
        },
        "outputId": "159e8f48-74d4-4880-def4-707e3bf4ebf0"
      },
      "source": [
        "housing_prepared.shape"
      ],
      "execution_count": null,
      "outputs": [
        {
          "output_type": "execute_result",
          "data": {
            "text/plain": [
              "(16512, 16)"
            ]
          },
          "metadata": {
            "tags": []
          },
          "execution_count": 137
        }
      ]
    },
    {
      "cell_type": "markdown",
      "metadata": {
        "id": "vcS1fq4LIQ6f",
        "colab_type": "text"
      },
      "source": [
        "# TRAINING THE MODEL"
      ]
    },
    {
      "cell_type": "code",
      "metadata": {
        "id": "IjLPzfxIIO2-",
        "colab_type": "code",
        "colab": {
          "base_uri": "https://localhost:8080/",
          "height": 35
        },
        "outputId": "d46c8afb-ec6a-49e1-dba1-e64a40bd22b2"
      },
      "source": [
        "from sklearn.linear_model import LinearRegression\n",
        "\n",
        "lin_reg = LinearRegression()\n",
        "lin_reg.fit(housing_prepared, housing_labels)"
      ],
      "execution_count": null,
      "outputs": [
        {
          "output_type": "execute_result",
          "data": {
            "text/plain": [
              "LinearRegression(copy_X=True, fit_intercept=True, n_jobs=None, normalize=False)"
            ]
          },
          "metadata": {
            "tags": []
          },
          "execution_count": 138
        }
      ]
    },
    {
      "cell_type": "code",
      "metadata": {
        "id": "2O6nduL1IIzy",
        "colab_type": "code",
        "colab": {
          "base_uri": "https://localhost:8080/",
          "height": 109
        },
        "outputId": "8f29e96c-8abb-4f6c-c9b0-ba618268e747"
      },
      "source": [
        "some_data = housing.iloc[:5]\n",
        "some_labels = housing_labels.iloc[:5]\n",
        "some_data_prepared = full_pipeline.transform(some_data)\n",
        "\n",
        "print(\"Prediction, \\n\" , lin_reg.predict(some_data_prepared))\n",
        "print(\"Actual, \\n\" , list(some_labels))"
      ],
      "execution_count": null,
      "outputs": [
        {
          "output_type": "stream",
          "text": [
            "Prediction, \n",
            " [210644.60459286 317768.80697211 210956.43331178  59218.98886849\n",
            " 189747.55849879]\n",
            "Actual, \n",
            " [286600.0, 340600.0, 196900.0, 46300.0, 254500.0]\n"
          ],
          "name": "stdout"
        }
      ]
    },
    {
      "cell_type": "code",
      "metadata": {
        "id": "FgSQUcNwJDhe",
        "colab_type": "code",
        "colab": {
          "base_uri": "https://localhost:8080/",
          "height": 35
        },
        "outputId": "11ece169-0ae0-474e-e521-b76f0983075e"
      },
      "source": [
        "#Error - mean squared\n",
        "from sklearn.metrics import mean_squared_error\n",
        "\n",
        "housing_predictions = lin_reg.predict(housing_prepared)\n",
        "lin_mse = mean_squared_error(housing_labels, housing_predictions)\n",
        "lin_rmse = np.sqrt(lin_mse)\n",
        "lin_rmse"
      ],
      "execution_count": null,
      "outputs": [
        {
          "output_type": "execute_result",
          "data": {
            "text/plain": [
              "68628.19819848923"
            ]
          },
          "metadata": {
            "tags": []
          },
          "execution_count": 145
        }
      ]
    },
    {
      "cell_type": "code",
      "metadata": {
        "id": "7pWgNcfHKNN3",
        "colab_type": "code",
        "colab": {
          "base_uri": "https://localhost:8080/",
          "height": 35
        },
        "outputId": "5e30fbc2-6c16-459b-db11-c734f8e4fb39"
      },
      "source": [
        "#Error - Mean Absolute\n",
        "from sklearn.metrics import mean_absolute_error\n",
        "\n",
        "lin_mae = mean_absolute_error(housing_labels, housing_predictions)\n",
        "lin_mae"
      ],
      "execution_count": null,
      "outputs": [
        {
          "output_type": "execute_result",
          "data": {
            "text/plain": [
              "49439.89599001897"
            ]
          },
          "metadata": {
            "tags": []
          },
          "execution_count": 146
        }
      ]
    },
    {
      "cell_type": "code",
      "metadata": {
        "id": "_rc-216nQtqz",
        "colab_type": "code",
        "colab": {}
      },
      "source": [
        "def print_score(score):\n",
        "  print(\"Scores : \" , score)\n",
        "  print(\"Mean : \" , score.mean())\n",
        "  print(\"Std Dev : \" , score.std())"
      ],
      "execution_count": 168,
      "outputs": []
    },
    {
      "cell_type": "code",
      "metadata": {
        "id": "483YQREaQVnV",
        "colab_type": "code",
        "colab": {
          "base_uri": "https://localhost:8080/",
          "height": 109
        },
        "outputId": "7fbd084e-99d8-4626-8234-b5839e72966a"
      },
      "source": [
        "from sklearn.model_selection import cross_val_score\n",
        "scores = cross_val_score(lin_reg, housing_prepared, housing_labels,                        \n",
        "                                                                             scoring=\"neg_mean_squared_error\", cv=10) \n",
        "lin_rmse_scores = np.sqrt(-scores)\n",
        "print_score(lin_rmse_scores)"
      ],
      "execution_count": 169,
      "outputs": [
        {
          "output_type": "stream",
          "text": [
            "Scores :  [66782.73843989 66960.118071   70347.95244419 74739.57052552\n",
            " 68031.13388938 71193.84183426 64969.63056405 68281.61137997\n",
            " 71552.91566558 67665.10082067]\n",
            "Mean :  69052.46136345083\n",
            "Std Dev :  2731.674001798344\n"
          ],
          "name": "stdout"
        }
      ]
    },
    {
      "cell_type": "code",
      "metadata": {
        "id": "OhZdmEI4KW9V",
        "colab_type": "code",
        "colab": {
          "base_uri": "https://localhost:8080/",
          "height": 128
        },
        "outputId": "cb615a6f-e060-4793-ef8d-4f06170148af"
      },
      "source": [
        "#Using a tree regressor\n",
        "from sklearn.tree import DecisionTreeRegressor\n",
        "\n",
        "tree_reg = DecisionTreeRegressor(random_state=42)\n",
        "tree_reg.fit(housing_prepared, housing_labels)"
      ],
      "execution_count": null,
      "outputs": [
        {
          "output_type": "execute_result",
          "data": {
            "text/plain": [
              "DecisionTreeRegressor(ccp_alpha=0.0, criterion='mse', max_depth=None,\n",
              "                      max_features=None, max_leaf_nodes=None,\n",
              "                      min_impurity_decrease=0.0, min_impurity_split=None,\n",
              "                      min_samples_leaf=1, min_samples_split=2,\n",
              "                      min_weight_fraction_leaf=0.0, presort='deprecated',\n",
              "                      random_state=42, splitter='best')"
            ]
          },
          "metadata": {
            "tags": []
          },
          "execution_count": 147
        }
      ]
    },
    {
      "cell_type": "code",
      "metadata": {
        "id": "jDPpUnvIKhoq",
        "colab_type": "code",
        "colab": {
          "base_uri": "https://localhost:8080/",
          "height": 239
        },
        "outputId": "9e6fdfa9-1ce7-4f25-f342-abe9399e1f91"
      },
      "source": [
        "tree_pred = tree_reg.predict(housing_prepared)\n",
        "tree_mse = mean_squared_error(housing_labels, tree_pred)\n",
        "housing_labels"
      ],
      "execution_count": 160,
      "outputs": [
        {
          "output_type": "execute_result",
          "data": {
            "text/plain": [
              "17606    286600.0\n",
              "18632    340600.0\n",
              "14650    196900.0\n",
              "3230      46300.0\n",
              "3555     254500.0\n",
              "           ...   \n",
              "6563     240200.0\n",
              "12053    113000.0\n",
              "13908     97800.0\n",
              "11159    225900.0\n",
              "15775    500001.0\n",
              "Name: median_house_value, Length: 16512, dtype: float64"
            ]
          },
          "metadata": {
            "tags": []
          },
          "execution_count": 160
        }
      ]
    },
    {
      "cell_type": "code",
      "metadata": {
        "id": "OvlINKDmK8B1",
        "colab_type": "code",
        "colab": {
          "base_uri": "https://localhost:8080/",
          "height": 35
        },
        "outputId": "e5bc3ab4-7150-4a64-90d7-8012f37bf370"
      },
      "source": [
        "ran = strat_test_set.drop(\"median_house_value\" , axis = 1)\n",
        "ran_label = strat_test_set[\"median_house_value\"]\n",
        "ran = full_pipeline.transform(ran)\n",
        "Tree_pred = tree_reg.predict(ran)\n",
        "tree_mse = mean_squared_error(ran_label, Tree_pred)\n",
        "tree_mse = np.sqrt(tree_mse)\n",
        "tree_mse"
      ],
      "execution_count": 165,
      "outputs": [
        {
          "output_type": "execute_result",
          "data": {
            "text/plain": [
              "70388.94215505105"
            ]
          },
          "metadata": {
            "tags": []
          },
          "execution_count": 165
        }
      ]
    },
    {
      "cell_type": "code",
      "metadata": {
        "id": "6r4f2Uo5LsIR",
        "colab_type": "code",
        "colab": {
          "base_uri": "https://localhost:8080/",
          "height": 109
        },
        "outputId": "e7955121-1fbb-45af-861d-7b2da86d2735"
      },
      "source": [
        "scores = cross_val_score(tree_reg, housing_prepared, housing_labels, scoring=\"neg_mean_squared_error\", cv=10) \n",
        "tree_rmse_scores = np.sqrt(-scores)\n",
        "print_score(tree_rmse_scores)"
      ],
      "execution_count": 170,
      "outputs": [
        {
          "output_type": "stream",
          "text": [
            "Scores :  [70194.33680785 66855.16363941 72432.58244769 70758.73896782\n",
            " 71115.88230639 75585.14172901 70262.86139133 70273.6325285\n",
            " 75366.87952553 71231.65726027]\n",
            "Mean :  71407.68766037929\n",
            "Std Dev :  2439.4345041191004\n"
          ],
          "name": "stdout"
        }
      ]
    },
    {
      "cell_type": "code",
      "metadata": {
        "id": "UtwC5kHNO_Sh",
        "colab_type": "code",
        "colab": {
          "base_uri": "https://localhost:8080/",
          "height": 146
        },
        "outputId": "db6300a1-eeae-4c65-af3a-de3964f74273"
      },
      "source": [
        "#Trying the model with random forest\n",
        "from sklearn.ensemble import RandomForestRegressor\n",
        "\n",
        "forest_reg = RandomForestRegressor(n_estimators=500, random_state=42)\n",
        "forest_reg.fit(housing_prepared, housing_labels)"
      ],
      "execution_count": 171,
      "outputs": [
        {
          "output_type": "execute_result",
          "data": {
            "text/plain": [
              "RandomForestRegressor(bootstrap=True, ccp_alpha=0.0, criterion='mse',\n",
              "                      max_depth=None, max_features='auto', max_leaf_nodes=None,\n",
              "                      max_samples=None, min_impurity_decrease=0.0,\n",
              "                      min_impurity_split=None, min_samples_leaf=1,\n",
              "                      min_samples_split=2, min_weight_fraction_leaf=0.0,\n",
              "                      n_estimators=500, n_jobs=None, oob_score=False,\n",
              "                      random_state=42, verbose=0, warm_start=False)"
            ]
          },
          "metadata": {
            "tags": []
          },
          "execution_count": 171
        }
      ]
    },
    {
      "cell_type": "code",
      "metadata": {
        "id": "vhaHcmlSSWfm",
        "colab_type": "code",
        "colab": {
          "base_uri": "https://localhost:8080/",
          "height": 109
        },
        "outputId": "4c644789-5ef9-43dd-bdb4-c336e0eca5d0"
      },
      "source": [
        "housing_predictions = forest_reg.predict(housing_prepared)\n",
        "scores = cross_val_score(forest_reg, housing_prepared, housing_labels, scoring=\"neg_mean_squared_error\", cv=10) \n",
        "forest_rmse_scores = np.sqrt(-scores)\n",
        "print_score(forest_rmse_scores)"
      ],
      "execution_count": 172,
      "outputs": [
        {
          "output_type": "stream",
          "text": [
            "Scores :  [49204.47469811 47210.89849563 49766.36344548 52244.75084907\n",
            " 49303.74514653 53292.91081304 48755.51920147 47735.60880953\n",
            " 52979.10939292 49874.14762859]\n",
            "Mean :  50036.752848036864\n",
            "Std Dev :  2009.654108612126\n"
          ],
          "name": "stdout"
        }
      ]
    },
    {
      "cell_type": "markdown",
      "metadata": {
        "id": "NDluNHQKZgyv",
        "colab_type": "text"
      },
      "source": [
        "## QUESTION 3 SOLUTION\n",
        "The question is to chose top k features while training (instead of using allthe attributes)\n",
        "* We need to find the feature_importances\n",
        "* Refer page 82"
      ]
    },
    {
      "cell_type": "code",
      "metadata": {
        "id": "dGi1uozmSi2q",
        "colab_type": "code",
        "colab": {
          "base_uri": "https://localhost:8080/",
          "height": 405
        },
        "outputId": "84992373-be28-478b-f05d-f256c11d699f"
      },
      "source": [
        "from sklearn.model_selection import GridSearchCV\n",
        "\n",
        "param_grid = [    {'n_estimators': [3, 10, 30], 'max_features': [2, 4, 6, 8]},    {'bootstrap': [False], 'n_estimators': [3, 10], 'max_features': [2, 3, 4]},  ]\n",
        "\n",
        "forest_reg = RandomForestRegressor()\n",
        "grid_search = GridSearchCV(forest_reg , param_grid , cv = 5, scoring = 'neg_mean_squared_error' , return_train_score = True)\n",
        "grid_search.fit(housing_prepared , housing_labels)"
      ],
      "execution_count": 173,
      "outputs": [
        {
          "output_type": "execute_result",
          "data": {
            "text/plain": [
              "GridSearchCV(cv=5, error_score=nan,\n",
              "             estimator=RandomForestRegressor(bootstrap=True, ccp_alpha=0.0,\n",
              "                                             criterion='mse', max_depth=None,\n",
              "                                             max_features='auto',\n",
              "                                             max_leaf_nodes=None,\n",
              "                                             max_samples=None,\n",
              "                                             min_impurity_decrease=0.0,\n",
              "                                             min_impurity_split=None,\n",
              "                                             min_samples_leaf=1,\n",
              "                                             min_samples_split=2,\n",
              "                                             min_weight_fraction_leaf=0.0,\n",
              "                                             n_estimators=100, n_jobs=None,\n",
              "                                             oob_score=False, random_state=None,\n",
              "                                             verbose=0, warm_start=False),\n",
              "             iid='deprecated', n_jobs=None,\n",
              "             param_grid=[{'max_features': [2, 4, 6, 8],\n",
              "                          'n_estimators': [3, 10, 30]},\n",
              "                         {'bootstrap': [False], 'max_features': [2, 3, 4],\n",
              "                          'n_estimators': [3, 10]}],\n",
              "             pre_dispatch='2*n_jobs', refit=True, return_train_score=True,\n",
              "             scoring='neg_mean_squared_error', verbose=0)"
            ]
          },
          "metadata": {
            "tags": []
          },
          "execution_count": 173
        }
      ]
    },
    {
      "cell_type": "code",
      "metadata": {
        "id": "5QjthaXuZezz",
        "colab_type": "code",
        "colab": {
          "base_uri": "https://localhost:8080/",
          "height": 91
        },
        "outputId": "74847286-5e62-406b-c286-849c0a255f96"
      },
      "source": [
        "feature_importance = grid_search.best_estimator_.feature_importances_\n",
        "feature_importance"
      ],
      "execution_count": 175,
      "outputs": [
        {
          "output_type": "execute_result",
          "data": {
            "text/plain": [
              "array([7.76336202e-02, 7.25537171e-02, 4.26944361e-02, 1.84193884e-02,\n",
              "       1.67711934e-02, 1.69936008e-02, 1.60596402e-02, 3.53251931e-01,\n",
              "       6.86926942e-02, 1.08706123e-01, 4.84585073e-02, 7.56822550e-03,\n",
              "       1.44762265e-01, 5.94837979e-05, 2.65592588e-03, 4.71924738e-03])"
            ]
          },
          "metadata": {
            "tags": []
          },
          "execution_count": 175
        }
      ]
    },
    {
      "cell_type": "code",
      "metadata": {
        "id": "W6SNOyioa4hP",
        "colab_type": "code",
        "colab": {}
      },
      "source": [
        "def indices_of_top_k(arr, k):\n",
        "    return np.sort(np.argpartition(np.array(arr), -k)[-k:])\n",
        "\n",
        "class TopFeatureSelector(BaseEstimator, TransformerMixin):\n",
        "    def __init__(self, feature_importances, k):\n",
        "        self.feature_importances = feature_importances\n",
        "        self.k = k\n",
        "    def fit(self, X, y=None):\n",
        "        self.feature_indices_ = indices_of_top_k(self.feature_importances, self.k)\n",
        "        return self\n",
        "    def transform(self, X):\n",
        "        return X[:, self.feature_indices_]"
      ],
      "execution_count": 176,
      "outputs": []
    },
    {
      "cell_type": "code",
      "metadata": {
        "id": "5xtDKiTGa-S6",
        "colab_type": "code",
        "colab": {
          "base_uri": "https://localhost:8080/",
          "height": 35
        },
        "outputId": "bf441e77-a851-47f9-c000-453dcfa5e1cc"
      },
      "source": [
        "k = 5\n",
        "top_k_feature_indices = indices_of_top_k(feature_importance, k)\n",
        "top_k_feature_indices"
      ],
      "execution_count": 178,
      "outputs": [
        {
          "output_type": "execute_result",
          "data": {
            "text/plain": [
              "array([ 0,  1,  7,  9, 12])"
            ]
          },
          "metadata": {
            "tags": []
          },
          "execution_count": 178
        }
      ]
    },
    {
      "cell_type": "code",
      "metadata": {
        "id": "TmU_0buNbT2N",
        "colab_type": "code",
        "colab": {
          "base_uri": "https://localhost:8080/",
          "height": 54
        },
        "outputId": "f366f4e7-1e15-4a86-c4a7-9b457e32e541"
      },
      "source": [
        "cat_encoder = full_pipeline.named_transformers_[\"cat\"] \n",
        "cat_one_hot_attribs = list(cat_encoder.categories_[0]) \n",
        "num_attributes = list(housing.columns)\n",
        "attributes = num_attributes + cat_one_hot_attribs\n",
        "np.array(attributes)[top_k_feature_indices]"
      ],
      "execution_count": 198,
      "outputs": [
        {
          "output_type": "execute_result",
          "data": {
            "text/plain": [
              "array(['longitude', 'latitude', 'median_income', '<1H OCEAN', 'NEAR BAY'],\n",
              "      dtype='<U18')"
            ]
          },
          "metadata": {
            "tags": []
          },
          "execution_count": 198
        }
      ]
    },
    {
      "cell_type": "markdown",
      "metadata": {
        "id": "jfk20WiDddMd",
        "colab_type": "text"
      },
      "source": [
        "ADD THIS TO PIPELINE"
      ]
    },
    {
      "cell_type": "code",
      "metadata": {
        "id": "pTqKFXRCbcEk",
        "colab_type": "code",
        "colab": {}
      },
      "source": [
        "preparation_and_feature_selection_pipeline = Pipeline([\n",
        "    ('preparation', full_pipeline),\n",
        "    ('feature_selection', TopFeatureSelector(feature_importance, k))\n",
        "])\n",
        "housing_prepared_top_k_features = preparation_and_feature_selection_pipeline.fit_transform(housing)"
      ],
      "execution_count": 200,
      "outputs": []
    },
    {
      "cell_type": "code",
      "metadata": {
        "id": "eZ5Lc8l-cC71",
        "colab_type": "code",
        "colab": {
          "base_uri": "https://localhost:8080/",
          "height": 35
        },
        "outputId": "ca226cba-03b1-4a30-8bbd-febef5d7c498"
      },
      "source": [
        "from sklearn.linear_model import LinearRegression\n",
        "\n",
        "lin_reg = LinearRegression()\n",
        "lin_reg.fit(housing_prepared_top_k_features, housing_labels)"
      ],
      "execution_count": 202,
      "outputs": [
        {
          "output_type": "execute_result",
          "data": {
            "text/plain": [
              "LinearRegression(copy_X=True, fit_intercept=True, n_jobs=None, normalize=False)"
            ]
          },
          "metadata": {
            "tags": []
          },
          "execution_count": 202
        }
      ]
    },
    {
      "cell_type": "code",
      "metadata": {
        "id": "de8y3id8d9nr",
        "colab_type": "code",
        "colab": {
          "base_uri": "https://localhost:8080/",
          "height": 35
        },
        "outputId": "b47cf5da-46a0-430c-ef58-56efe84f12c9"
      },
      "source": [
        "housing_prepared_top_k_features.shape"
      ],
      "execution_count": 204,
      "outputs": [
        {
          "output_type": "execute_result",
          "data": {
            "text/plain": [
              "(16512, 5)"
            ]
          },
          "metadata": {
            "tags": []
          },
          "execution_count": 204
        }
      ]
    },
    {
      "cell_type": "code",
      "metadata": {
        "id": "xhrReQMFeEQC",
        "colab_type": "code",
        "colab": {
          "base_uri": "https://localhost:8080/",
          "height": 35
        },
        "outputId": "a6bf55c2-924e-4b6b-ef2a-b2cfdf365647"
      },
      "source": [
        "housing.shape"
      ],
      "execution_count": 205,
      "outputs": [
        {
          "output_type": "execute_result",
          "data": {
            "text/plain": [
              "(16512, 9)"
            ]
          },
          "metadata": {
            "tags": []
          },
          "execution_count": 205
        }
      ]
    },
    {
      "cell_type": "code",
      "metadata": {
        "id": "I5KWivF0cT1o",
        "colab_type": "code",
        "colab": {
          "base_uri": "https://localhost:8080/",
          "height": 109
        },
        "outputId": "33f8e878-8c16-48bb-beb8-da90e5eb76c2"
      },
      "source": [
        "from sklearn.model_selection import cross_val_score\n",
        "scores = cross_val_score(lin_reg, housing_prepared, housing_labels,                        \n",
        "                                                                             scoring=\"neg_mean_squared_error\", cv=10) \n",
        "lin_rmse_scores = np.sqrt(-scores)\n",
        "print_score(lin_rmse_scores)"
      ],
      "execution_count": 203,
      "outputs": [
        {
          "output_type": "stream",
          "text": [
            "Scores :  [66782.73843989 66960.118071   70347.95244419 74739.57052552\n",
            " 68031.13388938 71193.84183426 64969.63056405 68281.61137997\n",
            " 71552.91566558 67665.10082067]\n",
            "Mean :  69052.46136345083\n",
            "Std Dev :  2731.674001798344\n"
          ],
          "name": "stdout"
        }
      ]
    },
    {
      "cell_type": "code",
      "metadata": {
        "id": "nozD9djMdOsZ",
        "colab_type": "code",
        "colab": {}
      },
      "source": [
        ""
      ],
      "execution_count": null,
      "outputs": []
    }
  ]
}